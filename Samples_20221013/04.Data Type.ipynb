{
 "cells": [
  {
   "cell_type": "markdown",
   "id": "35c4faa7",
   "metadata": {},
   "source": [
    "# 04. Data Type"
   ]
  },
  {
   "cell_type": "markdown",
   "id": "f47db511",
   "metadata": {},
   "source": [
    "## 1. 리스트(List)"
   ]
  },
  {
   "cell_type": "code",
   "execution_count": 4,
   "id": "f0eb0e6e",
   "metadata": {},
   "outputs": [
    {
     "name": "stdout",
     "output_type": "stream",
     "text": [
      "[1, 2, 3, 4, 5]\n",
      "4\n",
      "1\n",
      "2\n"
     ]
    }
   ],
   "source": [
    "# List <- 리스트 타입은 [ ]이다.\n",
    "a_list = [1, 2, 3, 4, 5]\n",
    "\n",
    "print(a_list)\n",
    "print(a_list[3])\n",
    "print(a_list[0])\n",
    "print(a_list[1])"
   ]
  },
  {
   "cell_type": "markdown",
   "id": "834cf138",
   "metadata": {},
   "source": [
    "### 슬라이싱\n",
    "\n",
    "* 파이썬에는 슬라이싱이라는 것이 있다."
   ]
  },
  {
   "cell_type": "code",
   "execution_count": 6,
   "id": "fc1c5504",
   "metadata": {},
   "outputs": [
    {
     "name": "stdout",
     "output_type": "stream",
     "text": [
      "3\n",
      "[1, 2]\n"
     ]
    }
   ],
   "source": [
    "# 슬라이싱\n",
    "print(a_list[2])\n",
    "print(a_list[:2])  # <- 2 앞에 있는 내용을 가지고 와라 하는 것이다."
   ]
  },
  {
   "cell_type": "code",
   "execution_count": 7,
   "id": "271a4452",
   "metadata": {},
   "outputs": [
    {
     "name": "stdout",
     "output_type": "stream",
     "text": [
      "[3, 4, 5]\n"
     ]
    }
   ],
   "source": [
    "print(a_list[2:])"
   ]
  },
  {
   "cell_type": "code",
   "execution_count": 9,
   "id": "040def18",
   "metadata": {},
   "outputs": [
    {
     "name": "stdout",
     "output_type": "stream",
     "text": [
      "[1, 2, 3, 4, 5]\n"
     ]
    }
   ],
   "source": [
    "print(a_list[:])"
   ]
  },
  {
   "cell_type": "code",
   "execution_count": 11,
   "id": "21a1668b",
   "metadata": {},
   "outputs": [
    {
     "name": "stdout",
     "output_type": "stream",
     "text": [
      "[2, 4]\n"
     ]
    }
   ],
   "source": [
    "print(a_list[1::2])  # 맨 뒤에 있는 2는 2칸씩 띄어서 출력해주는 것이다."
   ]
  },
  {
   "cell_type": "code",
   "execution_count": 12,
   "id": "6b5c3f58",
   "metadata": {},
   "outputs": [
    {
     "name": "stdout",
     "output_type": "stream",
     "text": [
      "[10, 2, 3, 4, 5]\n"
     ]
    }
   ],
   "source": [
    "b = a_list\n",
    "b[0] = 10 \n",
    "\n",
    "print(b)"
   ]
  },
  {
   "cell_type": "code",
   "execution_count": 13,
   "id": "cb1bf169",
   "metadata": {},
   "outputs": [
    {
     "name": "stdout",
     "output_type": "stream",
     "text": [
      "[10, 2, 3, 4, 5]\n"
     ]
    }
   ],
   "source": [
    "print(a_list)"
   ]
  },
  {
   "cell_type": "markdown",
   "id": "7dd922ce",
   "metadata": {},
   "source": [
    "### 주소가 복사되는게 아니라 값이 복사되게 하는 방법은 [:]하면 된다."
   ]
  },
  {
   "cell_type": "code",
   "execution_count": 14,
   "id": "c819aae2",
   "metadata": {},
   "outputs": [
    {
     "name": "stdout",
     "output_type": "stream",
     "text": [
      "[100, 2, 3, 4, 5]\n"
     ]
    }
   ],
   "source": [
    "b = a_list[:]\n",
    "b[0] = 100\n",
    "\n",
    "print(b)"
   ]
  },
  {
   "cell_type": "code",
   "execution_count": 15,
   "id": "ca03337b",
   "metadata": {},
   "outputs": [
    {
     "name": "stdout",
     "output_type": "stream",
     "text": [
      "[10, 2, 3, 4, 5]\n"
     ]
    }
   ],
   "source": [
    "print(a_list)"
   ]
  },
  {
   "cell_type": "markdown",
   "id": "8e3e7855",
   "metadata": {},
   "source": [
    "### list에 append를 해서 값을 추가 할 수 있다."
   ]
  },
  {
   "cell_type": "code",
   "execution_count": 16,
   "id": "1558f2a7",
   "metadata": {},
   "outputs": [
    {
     "name": "stdout",
     "output_type": "stream",
     "text": [
      "[1, 2, 3]\n"
     ]
    }
   ],
   "source": [
    "b_list = []\n",
    "b_list.append(1)\n",
    "b_list.append(2)\n",
    "b_list.append(3)\n",
    "\n",
    "print(b_list)"
   ]
  },
  {
   "cell_type": "markdown",
   "id": "65ad270f",
   "metadata": {},
   "source": [
    "### list에 가운데에 찔러 넣을 때는 insert의 구문을 사용하면 된다."
   ]
  },
  {
   "cell_type": "code",
   "execution_count": 17,
   "id": "ddbd9b66",
   "metadata": {},
   "outputs": [
    {
     "name": "stdout",
     "output_type": "stream",
     "text": [
      "[1, 2, 3, 2]\n"
     ]
    }
   ],
   "source": [
    "b_list.insert(2, 100)  # insert를 사용할 때는 앞에 있는게 인덱스이다.\n",
    "\n",
    "print(b_list)"
   ]
  },
  {
   "cell_type": "markdown",
   "id": "c4a456d5",
   "metadata": {},
   "source": [
    "## 2. 튜플(Tuple)"
   ]
  },
  {
   "cell_type": "markdown",
   "id": "fe2c2eb2",
   "metadata": {},
   "source": [
    "* 성능을 따질 때는 튜플을 사용한다."
   ]
  },
  {
   "cell_type": "code",
   "execution_count": 35,
   "id": "943372d1",
   "metadata": {},
   "outputs": [
    {
     "name": "stdout",
     "output_type": "stream",
     "text": [
      "(1, 2, 3, 4, 5)\n"
     ]
    }
   ],
   "source": [
    "# Tuple\n",
    "a_tuple = (1, 2, 3, 4, 5)\n",
    "\n",
    "print(a_tuple)"
   ]
  },
  {
   "cell_type": "markdown",
   "id": "647140d7",
   "metadata": {},
   "source": [
    "* 파이썬은 내부적으로 튜플을 사용한다."
   ]
  },
  {
   "cell_type": "code",
   "execution_count": 19,
   "id": "e333a1de",
   "metadata": {},
   "outputs": [
    {
     "ename": "TypeError",
     "evalue": "'tuple' object does not support item assignment",
     "output_type": "error",
     "traceback": [
      "\u001b[1;31m---------------------------------------------------------------------------\u001b[0m",
      "\u001b[1;31mTypeError\u001b[0m                                 Traceback (most recent call last)",
      "Input \u001b[1;32mIn [19]\u001b[0m, in \u001b[0;36m<cell line: 1>\u001b[1;34m()\u001b[0m\n\u001b[1;32m----> 1\u001b[0m a_tuple[\u001b[38;5;241m0\u001b[39m] \u001b[38;5;241m=\u001b[39m \u001b[38;5;241m10\u001b[39m\n",
      "\u001b[1;31mTypeError\u001b[0m: 'tuple' object does not support item assignment"
     ]
    }
   ],
   "source": [
    "a_tuple[0] = 10"
   ]
  },
  {
   "cell_type": "code",
   "execution_count": 21,
   "id": "2d92081c",
   "metadata": {},
   "outputs": [
    {
     "name": "stdout",
     "output_type": "stream",
     "text": [
      "200 100\n"
     ]
    }
   ],
   "source": [
    "a = 100\n",
    "b = 200\n",
    "c = b\n",
    "b = a\n",
    "a = c\n",
    "\n",
    "print(a, b)"
   ]
  },
  {
   "cell_type": "code",
   "execution_count": 23,
   "id": "f4fc39d7",
   "metadata": {},
   "outputs": [
    {
     "name": "stdout",
     "output_type": "stream",
     "text": [
      "200 100\n"
     ]
    }
   ],
   "source": [
    "a, b = b, a  # 파이썬은 내부적으로 () 괄호를 붙이지 않았지만 튜플로 사용했기 때문에 사용이 가능하다.\n",
    "\n",
    "print(a, b)"
   ]
  },
  {
   "cell_type": "markdown",
   "id": "1a156f79",
   "metadata": {},
   "source": [
    "## 3. 딕셔너리(Dict)"
   ]
  },
  {
   "cell_type": "code",
   "execution_count": 25,
   "id": "d138b412",
   "metadata": {},
   "outputs": [
    {
     "name": "stdout",
     "output_type": "stream",
     "text": [
      "{1: 'a', 'b': [1, 2, 3], 'c': 3}\n"
     ]
    }
   ],
   "source": [
    "# Dict\n",
    "\n",
    "a_dic = {1 : 'a', 'b' : [1,2,3], 'c' : 3}\n",
    "\n",
    "print(a_dic)"
   ]
  },
  {
   "cell_type": "markdown",
   "id": "6118eba0",
   "metadata": {},
   "source": [
    "* 딕셔너리에서는 두가지가 필요한데 처음에는 키(key), 두번째는 값(value)이다.\n",
    "* 이러한 두개의 타입이 딕셔너리 타입이다.\n",
    "* 그리고 키와 값을 사용하는게 JSON이라고 하심."
   ]
  },
  {
   "cell_type": "code",
   "execution_count": 27,
   "id": "997a83c3",
   "metadata": {},
   "outputs": [
    {
     "name": "stdout",
     "output_type": "stream",
     "text": [
      "a\n",
      "[1, 2, 3]\n",
      "3\n"
     ]
    }
   ],
   "source": [
    "print(a_dic[1])  # 1이라는 키를 요청 하였을 때, 키에 대한 값이 나오게 된다.\n",
    "print(a_dic['b'])\n",
    "print(a_dic['c'])"
   ]
  },
  {
   "cell_type": "code",
   "execution_count": 30,
   "id": "49bf4dd6",
   "metadata": {},
   "outputs": [
    {
     "name": "stdout",
     "output_type": "stream",
     "text": [
      "{1: 'a', 'b': [1, 2, 3], 'c': 3, 'd': 'Microsoft AI School'}\n"
     ]
    }
   ],
   "source": [
    "a_dic['d'] = 'Microsoft AI School'  # 없는 키와 값을 사용하게 되면 키와 값이 들어가게 된다.\n",
    "                                    # 그리고 있는 값을 넣게 되면 덮어 쓰기가 된다.\n",
    "print(a_dic)"
   ]
  },
  {
   "cell_type": "markdown",
   "id": "9e0fd412",
   "metadata": {},
   "source": [
    "## 4. 집합(Set)"
   ]
  },
  {
   "cell_type": "code",
   "execution_count": 33,
   "id": "fc65be75",
   "metadata": {},
   "outputs": [
    {
     "name": "stdout",
     "output_type": "stream",
     "text": [
      "{1, 2, 3}\n",
      "<class 'set'>\n"
     ]
    }
   ],
   "source": [
    "# Set\n",
    "\n",
    "a_set = {1, 2, 3}\n",
    "\n",
    "\n",
    "print(a_set)\n",
    "print(type(a_set))  # 해당되는 타입이 무엇인지 궁금하면 type()을 하게 되면 어떠한 타입인지에 대해 알 수 있다."
   ]
  },
  {
   "cell_type": "code",
   "execution_count": 38,
   "id": "64d43530",
   "metadata": {},
   "outputs": [],
   "source": [
    "b_set = {3, 4, 5}"
   ]
  },
  {
   "cell_type": "code",
   "execution_count": 39,
   "id": "0fd60a43",
   "metadata": {},
   "outputs": [
    {
     "data": {
      "text/plain": [
       "{1, 2, 3, 4, 5}"
      ]
     },
     "execution_count": 39,
     "metadata": {},
     "output_type": "execute_result"
    }
   ],
   "source": [
    "a_set.union(b_set) # 합집합"
   ]
  },
  {
   "cell_type": "markdown",
   "id": "5bd45269",
   "metadata": {},
   "source": [
    "* set에서 교집합을 사용 하려면 union을 사용하면된다."
   ]
  },
  {
   "cell_type": "code",
   "execution_count": 40,
   "id": "30f761e3",
   "metadata": {},
   "outputs": [
    {
     "data": {
      "text/plain": [
       "{3}"
      ]
     },
     "execution_count": 40,
     "metadata": {},
     "output_type": "execute_result"
    }
   ],
   "source": [
    "a_set.intersection(b_set)"
   ]
  },
  {
   "cell_type": "markdown",
   "id": "7e187ecf",
   "metadata": {},
   "source": [
    "* set에서 합집합을 사용하려면 intersection을 사용하면 된다."
   ]
  },
  {
   "cell_type": "code",
   "execution_count": 41,
   "id": "0c3bd338",
   "metadata": {},
   "outputs": [
    {
     "data": {
      "text/plain": [
       "{1, 2}"
      ]
     },
     "execution_count": 41,
     "metadata": {},
     "output_type": "execute_result"
    }
   ],
   "source": [
    "a_set - b_set # 차집합"
   ]
  },
  {
   "cell_type": "markdown",
   "id": "03505217",
   "metadata": {},
   "source": [
    "* set에서 차집합을 사용하려면 -를 사용하면 된다."
   ]
  },
  {
   "cell_type": "code",
   "execution_count": 42,
   "id": "c8dbea8a",
   "metadata": {},
   "outputs": [
    {
     "data": {
      "text/plain": [
       "{1, 2, 3, 4, 5}"
      ]
     },
     "execution_count": 42,
     "metadata": {},
     "output_type": "execute_result"
    }
   ],
   "source": [
    "a_set | b_set # 합집합"
   ]
  },
  {
   "cell_type": "code",
   "execution_count": 43,
   "id": "4bcb6c2a",
   "metadata": {},
   "outputs": [
    {
     "data": {
      "text/plain": [
       "{3}"
      ]
     },
     "execution_count": 43,
     "metadata": {},
     "output_type": "execute_result"
    }
   ],
   "source": [
    "a_set & b_set"
   ]
  },
  {
   "cell_type": "code",
   "execution_count": 44,
   "id": "18bfe640",
   "metadata": {},
   "outputs": [
    {
     "name": "stdout",
     "output_type": "stream",
     "text": [
      "<class 'set'>\n"
     ]
    }
   ],
   "source": [
    "# 부록\n",
    "\n",
    "a = set((1, 2, 3)) # set으로 감싸게 되면, set 타입으로 바뀌게 된다.\n",
    "print(type(a))"
   ]
  },
  {
   "cell_type": "code",
   "execution_count": 45,
   "id": "23c6ed01",
   "metadata": {},
   "outputs": [
    {
     "name": "stdout",
     "output_type": "stream",
     "text": [
      "<class 'list'>\n"
     ]
    }
   ],
   "source": [
    "b = list(a)\n",
    "print(type(b))"
   ]
  },
  {
   "cell_type": "code",
   "execution_count": 47,
   "id": "be1a3d9f",
   "metadata": {},
   "outputs": [
    {
     "name": "stdout",
     "output_type": "stream",
     "text": [
      "<class 'tuple'>\n"
     ]
    }
   ],
   "source": [
    "c = tuple(b)\n",
    "print(type(c))"
   ]
  },
  {
   "cell_type": "markdown",
   "id": "b3432fe8",
   "metadata": {},
   "source": [
    "# End"
   ]
  }
 ],
 "metadata": {
  "kernelspec": {
   "display_name": "Python 3 (ipykernel)",
   "language": "python",
   "name": "python3"
  },
  "language_info": {
   "codemirror_mode": {
    "name": "ipython",
    "version": 3
   },
   "file_extension": ".py",
   "mimetype": "text/x-python",
   "name": "python",
   "nbconvert_exporter": "python",
   "pygments_lexer": "ipython3",
   "version": "3.9.12"
  }
 },
 "nbformat": 4,
 "nbformat_minor": 5
}
