{
 "cells": [
  {
   "cell_type": "markdown",
   "id": "c9b7dfe2",
   "metadata": {},
   "source": [
    "# Input 사용하는 방법"
   ]
  },
  {
   "cell_type": "code",
   "execution_count": 1,
   "id": "977b634c",
   "metadata": {},
   "outputs": [
    {
     "name": "stdout",
     "output_type": "stream",
     "text": [
      "Hello Python\n"
     ]
    },
    {
     "data": {
      "text/plain": [
       "'Hello Python'"
      ]
     },
     "execution_count": 1,
     "metadata": {},
     "output_type": "execute_result"
    }
   ],
   "source": [
    "input()"
   ]
  },
  {
   "cell_type": "code",
   "execution_count": 3,
   "id": "0304be9c",
   "metadata": {},
   "outputs": [
    {
     "name": "stdout",
     "output_type": "stream",
     "text": [
      "좋아하는 가수는?태연\n"
     ]
    },
    {
     "data": {
      "text/plain": [
       "'태연'"
      ]
     },
     "execution_count": 3,
     "metadata": {},
     "output_type": "execute_result"
    }
   ],
   "source": [
    "input('좋아하는 가수는?')"
   ]
  },
  {
   "cell_type": "code",
   "execution_count": 4,
   "id": "c84b7e8b",
   "metadata": {},
   "outputs": [
    {
     "name": "stdout",
     "output_type": "stream",
     "text": [
      "좋아하는 가수는?태연\n",
      "멤버의 인원수는?1\n",
      "태연는 모두 1명입니다.\n"
     ]
    }
   ],
   "source": [
    "a = input('좋아하는 가수는?')\n",
    "b = input('멤버의 인원수는?')\n",
    "\n",
    "print('{}는 모두 {}명입니다.'.format(a, b))"
   ]
  },
  {
   "cell_type": "markdown",
   "id": "8cdd8efc",
   "metadata": {},
   "source": [
    "# End"
   ]
  }
 ],
 "metadata": {
  "kernelspec": {
   "display_name": "Python 3 (ipykernel)",
   "language": "python",
   "name": "python3"
  },
  "language_info": {
   "codemirror_mode": {
    "name": "ipython",
    "version": 3
   },
   "file_extension": ".py",
   "mimetype": "text/x-python",
   "name": "python",
   "nbconvert_exporter": "python",
   "pygments_lexer": "ipython3",
   "version": "3.9.12"
  }
 },
 "nbformat": 4,
 "nbformat_minor": 5
}
