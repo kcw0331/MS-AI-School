{
 "cells": [
  {
   "cell_type": "markdown",
   "id": "29bc440b",
   "metadata": {},
   "source": [
    "# Function"
   ]
  },
  {
   "cell_type": "code",
   "execution_count": 1,
   "id": "3000105d",
   "metadata": {},
   "outputs": [],
   "source": [
    "def ReturnName():\n",
    "    print('My name is IU')"
   ]
  },
  {
   "cell_type": "code",
   "execution_count": 2,
   "id": "35f5386d",
   "metadata": {},
   "outputs": [
    {
     "name": "stdout",
     "output_type": "stream",
     "text": [
      "My name is IU\n"
     ]
    }
   ],
   "source": [
    "ReturnName()"
   ]
  },
  {
   "cell_type": "markdown",
   "id": "7aa56c9d",
   "metadata": {},
   "source": [
    "* 복잡한 로직을 함수로 표현하면 사용하기가 편하다."
   ]
  },
  {
   "cell_type": "code",
   "execution_count": 3,
   "id": "04161bc1",
   "metadata": {},
   "outputs": [],
   "source": [
    "def ReturnName2(name):\n",
    "    print('My name is {}'.format(name))"
   ]
  },
  {
   "cell_type": "markdown",
   "id": "6c5ede70",
   "metadata": {},
   "source": [
    "* .format을 하게 되면 {}안에 값을 출력해준다."
   ]
  },
  {
   "cell_type": "code",
   "execution_count": 4,
   "id": "dcf678c0",
   "metadata": {},
   "outputs": [
    {
     "name": "stdout",
     "output_type": "stream",
     "text": [
      "My name is 레드벨벳\n"
     ]
    }
   ],
   "source": [
    "ReturnName2('레드벨벳')"
   ]
  },
  {
   "cell_type": "code",
   "execution_count": 5,
   "id": "8c3f3bb4",
   "metadata": {},
   "outputs": [],
   "source": [
    "def calc(a, b):\n",
    "    c = a * b\n",
    "    \n",
    "    return c  # return을 하게 되면, 값이 return이 된다."
   ]
  },
  {
   "cell_type": "code",
   "execution_count": 7,
   "id": "805e2f2f",
   "metadata": {},
   "outputs": [
    {
     "data": {
      "text/plain": [
       "2000"
      ]
     },
     "execution_count": 7,
     "metadata": {},
     "output_type": "execute_result"
    }
   ],
   "source": [
    "calc(10, 2) * 100"
   ]
  },
  {
   "cell_type": "code",
   "execution_count": 8,
   "id": "f3dfc98c",
   "metadata": {},
   "outputs": [
    {
     "data": {
      "text/plain": [
       "<function __main__.calc(a, b)>"
      ]
     },
     "execution_count": 8,
     "metadata": {},
     "output_type": "execute_result"
    }
   ],
   "source": [
    "calc # 함수 자체도 메모리를 잡고 있다는 것을 알 수 있다."
   ]
  },
  {
   "cell_type": "markdown",
   "id": "4a381dda",
   "metadata": {},
   "source": [
    "### 메모리를 확인 하는 방법. (id)"
   ]
  },
  {
   "cell_type": "code",
   "execution_count": 9,
   "id": "e5e11f84",
   "metadata": {},
   "outputs": [
    {
     "data": {
      "text/plain": [
       "2075509213216"
      ]
     },
     "execution_count": 9,
     "metadata": {},
     "output_type": "execute_result"
    }
   ],
   "source": [
    "id(calc)"
   ]
  },
  {
   "cell_type": "markdown",
   "id": "42fb1150",
   "metadata": {},
   "source": [
    "* 메모리의 값을 확인 할 때, id()를 사용해서 확인해 준다."
   ]
  },
  {
   "cell_type": "code",
   "execution_count": null,
   "id": "8bbe14c2",
   "metadata": {},
   "outputs": [],
   "source": []
  }
 ],
 "metadata": {
  "kernelspec": {
   "display_name": "Python 3 (ipykernel)",
   "language": "python",
   "name": "python3"
  },
  "language_info": {
   "codemirror_mode": {
    "name": "ipython",
    "version": 3
   },
   "file_extension": ".py",
   "mimetype": "text/x-python",
   "name": "python",
   "nbconvert_exporter": "python",
   "pygments_lexer": "ipython3",
   "version": "3.9.12"
  }
 },
 "nbformat": 4,
 "nbformat_minor": 5
}
