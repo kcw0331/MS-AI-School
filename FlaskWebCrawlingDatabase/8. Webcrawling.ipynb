{
 "cells": [
  {
   "cell_type": "code",
   "execution_count": 8,
   "metadata": {
    "colab": {
     "base_uri": "https://localhost:8080/"
    },
    "executionInfo": {
     "elapsed": 4515,
     "status": "ok",
     "timestamp": 1666238747630,
     "user": {
      "displayName": "Changwoo Kim",
      "userId": "10065437776619974099"
     },
     "user_tz": -540
    },
    "id": "dVykKATGkOq5",
    "outputId": "1d636fa9-fa37-4af3-a6db-40b7bf270170"
   },
   "outputs": [
    {
     "name": "stdout",
     "output_type": "stream",
     "text": [
      "Requirement already satisfied: bs4 in c:\\users\\user\\anaconda3\\lib\\site-packages (0.0.1)\n",
      "Requirement already satisfied: beautifulsoup4 in c:\\users\\user\\anaconda3\\lib\\site-packages (from bs4) (4.11.1)\n",
      "Requirement already satisfied: soupsieve>1.2 in c:\\users\\user\\anaconda3\\lib\\site-packages (from beautifulsoup4->bs4) (2.3.1)\n"
     ]
    }
   ],
   "source": [
    "!pip install bs4"
   ]
  },
  {
   "cell_type": "code",
   "execution_count": 9,
   "metadata": {
    "executionInfo": {
     "elapsed": 267,
     "status": "ok",
     "timestamp": 1666238863245,
     "user": {
      "displayName": "Changwoo Kim",
      "userId": "10065437776619974099"
     },
     "user_tz": -540
    },
    "id": "MQsdpDomkVdw"
   },
   "outputs": [],
   "source": [
    "import bs4\n",
    "import requests"
   ]
  },
  {
   "cell_type": "markdown",
   "metadata": {
    "id": "ENriCplLkti1"
   },
   "source": [
    "* bs4는 HTML을 파싱하는 역할을 한다.\n",
    "* 통신을 하는 것은 requests가 한다."
   ]
  },
  {
   "cell_type": "code",
   "execution_count": 11,
   "metadata": {
    "colab": {
     "base_uri": "https://localhost:8080/",
     "height": 109
    },
    "executionInfo": {
     "elapsed": 2236,
     "status": "ok",
     "timestamp": 1666239721046,
     "user": {
      "displayName": "Changwoo Kim",
      "userId": "10065437776619974099"
     },
     "user_tz": -540
    },
    "id": "EZ2gS0ZWk1jW",
    "outputId": "11fd26d3-45e3-4ebe-80d8-cb8743a82707"
   },
   "outputs": [],
   "source": [
    "url = \"https://search.shopping.naver.com/search/category/100005307\"\n",
    "result = requests.get(url).text # requests로 통신을 한다.\n",
    "result"
   ]
  },
  {
   "cell_type": "markdown",
   "metadata": {
    "id": "_RF0w6HolOUe"
   },
   "source": [
    "* 텍스트를 가지고 오는 거면, text를 사용한다."
   ]
  },
  {
   "cell_type": "code",
   "execution_count": 12,
   "metadata": {
    "executionInfo": {
     "elapsed": 2,
     "status": "ok",
     "timestamp": 1666239723017,
     "user": {
      "displayName": "Changwoo Kim",
      "userId": "10065437776619974099"
     },
     "user_tz": -540
    },
    "id": "hfmwrROXlS6C"
   },
   "outputs": [],
   "source": [
    "bsObj = bs4.BeautifulSoup(result, 'html.parser')  # html 파서가 이해하고 출력해준다."
   ]
  },
  {
   "cell_type": "markdown",
   "metadata": {
    "id": "WPsSp38RlpGV"
   },
   "source": [
    "* HTML인 result를 집어넣어 준다."
   ]
  },
  {
   "cell_type": "code",
   "execution_count": 13,
   "metadata": {
    "id": "Mr83AYCHoJuz"
   },
   "outputs": [],
   "source": [
    "# bsObj.find('a', {'class': 'basicList_link__JLQJf'}).text"
   ]
  },
  {
   "cell_type": "code",
   "execution_count": 14,
   "metadata": {
    "executionInfo": {
     "elapsed": 265,
     "status": "ok",
     "timestamp": 1666239751474,
     "user": {
      "displayName": "Changwoo Kim",
      "userId": "10065437776619974099"
     },
     "user_tz": -540
    },
    "id": "Cp36wUZumOEs"
   },
   "outputs": [],
   "source": [
    "items = bsObj.find_all('a', {'class': 'basicList_link__JLQJf'}) # a테그에서 찾으라고 명령을 준다."
   ]
  },
  {
   "cell_type": "code",
   "execution_count": 21,
   "metadata": {
    "colab": {
     "base_uri": "https://localhost:8080/"
    },
    "executionInfo": {
     "elapsed": 2,
     "status": "ok",
     "timestamp": 1666239817100,
     "user": {
      "displayName": "Changwoo Kim",
      "userId": "10065437776619974099"
     },
     "user_tz": -540
    },
    "id": "_AjTtyxGnb2S",
    "outputId": "c18c61d2-bc59-432e-ee8e-9e8e7582cfcf"
   },
   "outputs": [
    {
     "name": "stdout",
     "output_type": "stream",
     "text": [
      "삼성전자 노트북 플러스2 NT550XDA-K14A\n",
      "LG전자 LG그램 16ZD90Q-SX76K\n",
      "삼성전자 갤럭시북 프로360 NT950QDY-A51A\n",
      "삼성전자 노트북 플러스2 NT550XDA-K14A\n",
      "기본구성 SSD 128GB\n",
      "68개\n",
      "SSD 256GB\n",
      "45개\n",
      "SSD 500GB\n",
      "43개\n",
      "SSD 1TB\n",
      "28개\n",
      "500GB + SSD 128GB\n",
      "3개\n",
      "1TB + SSD 128GB\n",
      "6개\n",
      "삼성전자 갤럭시북2 프로 NT950XEV-G51A\n",
      "기본구성 SSD 256GB\n",
      "35개\n",
      "SSD 500GB\n",
      "37개\n",
      "SSD 1TB\n",
      "49개\n",
      "SSD 2TB\n",
      "6개\n",
      "SSD 256GB + SSD 256GB\n",
      "6개\n",
      "SSD 500GB + SSD 256GB\n",
      "6개\n"
     ]
    }
   ],
   "source": [
    "for item in items:\n",
    "  print(item.text)"
   ]
  },
  {
   "cell_type": "code",
   "execution_count": 15,
   "metadata": {
    "colab": {
     "base_uri": "https://localhost:8080/"
    },
    "executionInfo": {
     "elapsed": 2,
     "status": "ok",
     "timestamp": 1666239880465,
     "user": {
      "displayName": "Changwoo Kim",
      "userId": "10065437776619974099"
     },
     "user_tz": -540
    },
    "id": "-JQrGzJyooqA",
    "outputId": "7d0011c7-4378-4bca-f7be-60cd02fb35e1"
   },
   "outputs": [
    {
     "name": "stdout",
     "output_type": "stream",
     "text": [
      "삼성전자 노트북 플러스2 NT550XDZ-AD5A\n",
      "LG전자 울트라기어 17UD70Q-PX70K\n",
      "삼성전자 갤럭시북 프로360 NT950QDY-A51A\n",
      "삼성전자 노트북 플러스2 NT550XDA-K14A\n"
     ]
    }
   ],
   "source": [
    "print(items[0].text)\n",
    "print(items[1].text)  # 개별항목으로 해야 text를 사용할 수 있다.\n",
    "print(items[2].text)\n",
    "print(items[3].text)"
   ]
  },
  {
   "cell_type": "markdown",
   "metadata": {
    "id": "6ycbo-lEo-SD"
   },
   "source": [
    "# End"
   ]
  }
 ],
 "metadata": {
  "colab": {
   "authorship_tag": "ABX9TyP5JVvxim76joNv+0bflR5+",
   "collapsed_sections": [],
   "provenance": []
  },
  "kernelspec": {
   "display_name": "Python 3 (ipykernel)",
   "language": "python",
   "name": "python3"
  },
  "language_info": {
   "codemirror_mode": {
    "name": "ipython",
    "version": 3
   },
   "file_extension": ".py",
   "mimetype": "text/x-python",
   "name": "python",
   "nbconvert_exporter": "python",
   "pygments_lexer": "ipython3",
   "version": "3.9.12"
  }
 },
 "nbformat": 4,
 "nbformat_minor": 1
}
