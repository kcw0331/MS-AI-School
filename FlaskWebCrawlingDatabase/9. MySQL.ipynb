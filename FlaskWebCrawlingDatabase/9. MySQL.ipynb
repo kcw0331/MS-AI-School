{
 "cells": [
  {
   "cell_type": "code",
   "execution_count": 4,
   "metadata": {
    "colab": {
     "base_uri": "https://localhost:8080/"
    },
    "executionInfo": {
     "elapsed": 5024,
     "status": "ok",
     "timestamp": 1666253070713,
     "user": {
      "displayName": "Changwoo Kim",
      "userId": "10065437776619974099"
     },
     "user_tz": -540
    },
    "id": "G22o71wGabxG",
    "outputId": "8ff168df-dc19-4f69-912a-7d03a45a1e72"
   },
   "outputs": [
    {
     "name": "stdout",
     "output_type": "stream",
     "text": [
      "Looking in indexes: https://pypi.org/simple, https://us-python.pkg.dev/colab-wheels/public/simple/\n",
      "Requirement already satisfied: pymysql in /usr/local/lib/python3.7/dist-packages (1.0.2)\n"
     ]
    }
   ],
   "source": [
    "!pip install pymysql\n",
    "import pymysql"
   ]
  },
  {
   "cell_type": "code",
   "execution_count": 5,
   "metadata": {
    "executionInfo": {
     "elapsed": 2,
     "status": "ok",
     "timestamp": 1666253233417,
     "user": {
      "displayName": "Changwoo Kim",
      "userId": "10065437776619974099"
     },
     "user_tz": -540
    },
    "id": "F9T7IZY2anFd"
   },
   "outputs": [],
   "source": [
    "host_name = ''\n",
    "username = ''\n",
    "password = ''\n",
    "database_name = ''"
   ]
  },
  {
   "cell_type": "markdown",
   "metadata": {
    "id": "xtWFT-onbrvK"
   },
   "source": [
    "* 값들을 준비해 준다."
   ]
  },
  {
   "cell_type": "code",
   "execution_count": 14,
   "metadata": {
    "executionInfo": {
     "elapsed": 2085,
     "status": "ok",
     "timestamp": 1666253868194,
     "user": {
      "displayName": "Changwoo Kim",
      "userId": "10065437776619974099"
     },
     "user_tz": -540
    },
    "id": "G_NkdWiGbpb3"
   },
   "outputs": [],
   "source": [
    "db = pymysql.connect(\n",
    "    host = host_name,\n",
    "    port = 3306,  # mysql은 포트번호를 지정안하면 3306번이다.\n",
    "    user = username,\n",
    "    passwd = password,\n",
    "    db = database_name,\n",
    "    charset = 'utf8',\n",
    "    ssl={\"fake_flag_to_enable_tls\":True}\n",
    ")"
   ]
  },
  {
   "cell_type": "markdown",
   "metadata": {
    "id": "kpDJBUMzcRf5"
   },
   "source": [
    "* 이렇게 하면 db자체를 실행 할 수 있다."
   ]
  },
  {
   "cell_type": "code",
   "execution_count": 15,
   "metadata": {
    "executionInfo": {
     "elapsed": 1329,
     "status": "ok",
     "timestamp": 1666253927699,
     "user": {
      "displayName": "Changwoo Kim",
      "userId": "10065437776619974099"
     },
     "user_tz": -540
    },
    "id": "CYWcxIzxcWs2"
   },
   "outputs": [],
   "source": [
    "import pandas as pd"
   ]
  },
  {
   "cell_type": "code",
   "execution_count": 16,
   "metadata": {
    "executionInfo": {
     "elapsed": 508,
     "status": "ok",
     "timestamp": 1666254084579,
     "user": {
      "displayName": "Changwoo Kim",
      "userId": "10065437776619974099"
     },
     "user_tz": -540
    },
    "id": "tARgrJPgeSqZ"
   },
   "outputs": [],
   "source": [
    "SQL = 'SELECT * FROM employees'\n",
    "df = pd.read_sql(SQL, db)"
   ]
  },
  {
   "cell_type": "code",
   "execution_count": 17,
   "metadata": {
    "colab": {
     "base_uri": "https://localhost:8080/"
    },
    "executionInfo": {
     "elapsed": 5,
     "status": "ok",
     "timestamp": 1666254115679,
     "user": {
      "displayName": "Changwoo Kim",
      "userId": "10065437776619974099"
     },
     "user_tz": -540
    },
    "id": "8KVD9MbFe5Lj",
    "outputId": "cd867c46-90ad-466c-e17e-e6601e7113cc"
   },
   "outputs": [
    {
     "data": {
      "text/plain": [
       "pandas.core.frame.DataFrame"
      ]
     },
     "execution_count": 17,
     "metadata": {},
     "output_type": "execute_result"
    }
   ],
   "source": [
    "type(df)"
   ]
  },
  {
   "cell_type": "markdown",
   "metadata": {
    "id": "M88sTZzFfBvc"
   },
   "source": [
    "* 타입을 보면 데이터 프레임 객체로 가져온 것을 알 수 있다."
   ]
  },
  {
   "cell_type": "code",
   "execution_count": 18,
   "metadata": {
    "colab": {
     "base_uri": "https://localhost:8080/",
     "height": 771
    },
    "executionInfo": {
     "elapsed": 5,
     "status": "ok",
     "timestamp": 1666254141600,
     "user": {
      "displayName": "Changwoo Kim",
      "userId": "10065437776619974099"
     },
     "user_tz": -540
    },
    "id": "6U9QO4aQfA5q",
    "outputId": "33fbf0a3-b184-4ec7-daab-9d341d140815"
   },
   "outputs": [
    {
     "data": {
      "text/html": [
       "\n",
       "  <div id=\"df-e64d7993-e825-4e68-98b6-da11d8871283\">\n",
       "    <div class=\"colab-df-container\">\n",
       "      <div>\n",
       "<style scoped>\n",
       "    .dataframe tbody tr th:only-of-type {\n",
       "        vertical-align: middle;\n",
       "    }\n",
       "\n",
       "    .dataframe tbody tr th {\n",
       "        vertical-align: top;\n",
       "    }\n",
       "\n",
       "    .dataframe thead th {\n",
       "        text-align: right;\n",
       "    }\n",
       "</style>\n",
       "<table border=\"1\" class=\"dataframe\">\n",
       "  <thead>\n",
       "    <tr style=\"text-align: right;\">\n",
       "      <th></th>\n",
       "      <th>employeeNumber</th>\n",
       "      <th>lastName</th>\n",
       "      <th>firstName</th>\n",
       "      <th>extension</th>\n",
       "      <th>email</th>\n",
       "      <th>officeCode</th>\n",
       "      <th>reportsTo</th>\n",
       "      <th>jobTitle</th>\n",
       "    </tr>\n",
       "  </thead>\n",
       "  <tbody>\n",
       "    <tr>\n",
       "      <th>0</th>\n",
       "      <td>1002</td>\n",
       "      <td>Murphy</td>\n",
       "      <td>Diane</td>\n",
       "      <td>x5800</td>\n",
       "      <td>dmurphy@classicmodelcars.com</td>\n",
       "      <td>1</td>\n",
       "      <td>NaN</td>\n",
       "      <td>President</td>\n",
       "    </tr>\n",
       "    <tr>\n",
       "      <th>1</th>\n",
       "      <td>1056</td>\n",
       "      <td>Patterson</td>\n",
       "      <td>Mary</td>\n",
       "      <td>x4611</td>\n",
       "      <td>mpatterso@classicmodelcars.com</td>\n",
       "      <td>1</td>\n",
       "      <td>1002.0</td>\n",
       "      <td>VP Sales</td>\n",
       "    </tr>\n",
       "    <tr>\n",
       "      <th>2</th>\n",
       "      <td>1076</td>\n",
       "      <td>Firrelli</td>\n",
       "      <td>Jeff</td>\n",
       "      <td>x9273</td>\n",
       "      <td>jfirrelli@classicmodelcars.com</td>\n",
       "      <td>1</td>\n",
       "      <td>1002.0</td>\n",
       "      <td>VP Marketing</td>\n",
       "    </tr>\n",
       "    <tr>\n",
       "      <th>3</th>\n",
       "      <td>1088</td>\n",
       "      <td>Patterson</td>\n",
       "      <td>William</td>\n",
       "      <td>x4871</td>\n",
       "      <td>wpatterson@classicmodelcars.com</td>\n",
       "      <td>6</td>\n",
       "      <td>1056.0</td>\n",
       "      <td>Sales Manager (APAC)</td>\n",
       "    </tr>\n",
       "    <tr>\n",
       "      <th>4</th>\n",
       "      <td>1102</td>\n",
       "      <td>Bondur</td>\n",
       "      <td>Gerard</td>\n",
       "      <td>x5408</td>\n",
       "      <td>gbondur@classicmodelcars.com</td>\n",
       "      <td>4</td>\n",
       "      <td>1056.0</td>\n",
       "      <td>Sale Manager (EMEA)</td>\n",
       "    </tr>\n",
       "    <tr>\n",
       "      <th>5</th>\n",
       "      <td>1143</td>\n",
       "      <td>Bow</td>\n",
       "      <td>Anthony</td>\n",
       "      <td>x5428</td>\n",
       "      <td>abow@classicmodelcars.com</td>\n",
       "      <td>1</td>\n",
       "      <td>1056.0</td>\n",
       "      <td>Sales Manager (NA)</td>\n",
       "    </tr>\n",
       "    <tr>\n",
       "      <th>6</th>\n",
       "      <td>1165</td>\n",
       "      <td>Jennings</td>\n",
       "      <td>Leslie</td>\n",
       "      <td>x3291</td>\n",
       "      <td>ljennings@classicmodelcars.com</td>\n",
       "      <td>1</td>\n",
       "      <td>1143.0</td>\n",
       "      <td>Sales Rep</td>\n",
       "    </tr>\n",
       "    <tr>\n",
       "      <th>7</th>\n",
       "      <td>1166</td>\n",
       "      <td>Thompson</td>\n",
       "      <td>Leslie</td>\n",
       "      <td>x4065</td>\n",
       "      <td>lthompson@classicmodelcars.com</td>\n",
       "      <td>1</td>\n",
       "      <td>1143.0</td>\n",
       "      <td>Sales Rep</td>\n",
       "    </tr>\n",
       "    <tr>\n",
       "      <th>8</th>\n",
       "      <td>1188</td>\n",
       "      <td>Firrelli</td>\n",
       "      <td>Julie</td>\n",
       "      <td>x2173</td>\n",
       "      <td>jfirrelli@classicmodelcars.com</td>\n",
       "      <td>2</td>\n",
       "      <td>1143.0</td>\n",
       "      <td>Sales Rep</td>\n",
       "    </tr>\n",
       "    <tr>\n",
       "      <th>9</th>\n",
       "      <td>1216</td>\n",
       "      <td>Patterson</td>\n",
       "      <td>Steve</td>\n",
       "      <td>x4334</td>\n",
       "      <td>spatterson@classicmodelcars.com</td>\n",
       "      <td>2</td>\n",
       "      <td>1143.0</td>\n",
       "      <td>Sales Rep</td>\n",
       "    </tr>\n",
       "    <tr>\n",
       "      <th>10</th>\n",
       "      <td>1286</td>\n",
       "      <td>Tseng</td>\n",
       "      <td>Foon Yue</td>\n",
       "      <td>x2248</td>\n",
       "      <td>ftseng@classicmodelcars.com</td>\n",
       "      <td>3</td>\n",
       "      <td>1143.0</td>\n",
       "      <td>Sales Rep</td>\n",
       "    </tr>\n",
       "    <tr>\n",
       "      <th>11</th>\n",
       "      <td>1323</td>\n",
       "      <td>Vanauf</td>\n",
       "      <td>George</td>\n",
       "      <td>x4102</td>\n",
       "      <td>gvanauf@classicmodelcars.com</td>\n",
       "      <td>3</td>\n",
       "      <td>1143.0</td>\n",
       "      <td>Sales Rep</td>\n",
       "    </tr>\n",
       "    <tr>\n",
       "      <th>12</th>\n",
       "      <td>1337</td>\n",
       "      <td>Bondur</td>\n",
       "      <td>Loui</td>\n",
       "      <td>x6493</td>\n",
       "      <td>lbondur@classicmodelcars.com</td>\n",
       "      <td>4</td>\n",
       "      <td>1102.0</td>\n",
       "      <td>Sales Rep</td>\n",
       "    </tr>\n",
       "    <tr>\n",
       "      <th>13</th>\n",
       "      <td>1370</td>\n",
       "      <td>Hernandez</td>\n",
       "      <td>Gerard</td>\n",
       "      <td>x2028</td>\n",
       "      <td>ghernande@classicmodelcars.com</td>\n",
       "      <td>4</td>\n",
       "      <td>1102.0</td>\n",
       "      <td>Sales Rep</td>\n",
       "    </tr>\n",
       "    <tr>\n",
       "      <th>14</th>\n",
       "      <td>1401</td>\n",
       "      <td>Castillo</td>\n",
       "      <td>Pamela</td>\n",
       "      <td>x2759</td>\n",
       "      <td>pcastillo@classicmodelcars.com</td>\n",
       "      <td>4</td>\n",
       "      <td>1102.0</td>\n",
       "      <td>Sales Rep</td>\n",
       "    </tr>\n",
       "    <tr>\n",
       "      <th>15</th>\n",
       "      <td>1501</td>\n",
       "      <td>Bott</td>\n",
       "      <td>Larry</td>\n",
       "      <td>x2311</td>\n",
       "      <td>lbott@classicmodelcars.com</td>\n",
       "      <td>7</td>\n",
       "      <td>1102.0</td>\n",
       "      <td>Sales Rep</td>\n",
       "    </tr>\n",
       "    <tr>\n",
       "      <th>16</th>\n",
       "      <td>1504</td>\n",
       "      <td>Jones</td>\n",
       "      <td>Barry</td>\n",
       "      <td>x102</td>\n",
       "      <td>bjones@classicmodelcars.com</td>\n",
       "      <td>7</td>\n",
       "      <td>1102.0</td>\n",
       "      <td>Sales Rep</td>\n",
       "    </tr>\n",
       "    <tr>\n",
       "      <th>17</th>\n",
       "      <td>1611</td>\n",
       "      <td>Fixter</td>\n",
       "      <td>Andy</td>\n",
       "      <td>x101</td>\n",
       "      <td>afixter@classicmodelcars.com</td>\n",
       "      <td>6</td>\n",
       "      <td>1088.0</td>\n",
       "      <td>Sales Rep</td>\n",
       "    </tr>\n",
       "    <tr>\n",
       "      <th>18</th>\n",
       "      <td>1612</td>\n",
       "      <td>Marsh</td>\n",
       "      <td>Peter</td>\n",
       "      <td>x102</td>\n",
       "      <td>pmarsh@classicmodelcars.com</td>\n",
       "      <td>6</td>\n",
       "      <td>1088.0</td>\n",
       "      <td>Sales Rep</td>\n",
       "    </tr>\n",
       "    <tr>\n",
       "      <th>19</th>\n",
       "      <td>1619</td>\n",
       "      <td>King</td>\n",
       "      <td>Tom</td>\n",
       "      <td>x103</td>\n",
       "      <td>tking@classicmodelcars.com</td>\n",
       "      <td>6</td>\n",
       "      <td>1088.0</td>\n",
       "      <td>Sales Rep</td>\n",
       "    </tr>\n",
       "    <tr>\n",
       "      <th>20</th>\n",
       "      <td>1621</td>\n",
       "      <td>Nishi</td>\n",
       "      <td>Mami</td>\n",
       "      <td>x101</td>\n",
       "      <td>mnishi@classicmodelcars.com</td>\n",
       "      <td>5</td>\n",
       "      <td>1056.0</td>\n",
       "      <td>Sales Rep</td>\n",
       "    </tr>\n",
       "    <tr>\n",
       "      <th>21</th>\n",
       "      <td>1625</td>\n",
       "      <td>Kato</td>\n",
       "      <td>Yoshimi</td>\n",
       "      <td>x102</td>\n",
       "      <td>ykato@classicmodelcars.com</td>\n",
       "      <td>5</td>\n",
       "      <td>1621.0</td>\n",
       "      <td>Sales Rep</td>\n",
       "    </tr>\n",
       "    <tr>\n",
       "      <th>22</th>\n",
       "      <td>1702</td>\n",
       "      <td>Gerard</td>\n",
       "      <td>Martin</td>\n",
       "      <td>x2312</td>\n",
       "      <td>mgerard@classicmodelcars.com</td>\n",
       "      <td>4</td>\n",
       "      <td>1102.0</td>\n",
       "      <td>Sales Rep</td>\n",
       "    </tr>\n",
       "  </tbody>\n",
       "</table>\n",
       "</div>\n",
       "      <button class=\"colab-df-convert\" onclick=\"convertToInteractive('df-e64d7993-e825-4e68-98b6-da11d8871283')\"\n",
       "              title=\"Convert this dataframe to an interactive table.\"\n",
       "              style=\"display:none;\">\n",
       "        \n",
       "  <svg xmlns=\"http://www.w3.org/2000/svg\" height=\"24px\"viewBox=\"0 0 24 24\"\n",
       "       width=\"24px\">\n",
       "    <path d=\"M0 0h24v24H0V0z\" fill=\"none\"/>\n",
       "    <path d=\"M18.56 5.44l.94 2.06.94-2.06 2.06-.94-2.06-.94-.94-2.06-.94 2.06-2.06.94zm-11 1L8.5 8.5l.94-2.06 2.06-.94-2.06-.94L8.5 2.5l-.94 2.06-2.06.94zm10 10l.94 2.06.94-2.06 2.06-.94-2.06-.94-.94-2.06-.94 2.06-2.06.94z\"/><path d=\"M17.41 7.96l-1.37-1.37c-.4-.4-.92-.59-1.43-.59-.52 0-1.04.2-1.43.59L10.3 9.45l-7.72 7.72c-.78.78-.78 2.05 0 2.83L4 21.41c.39.39.9.59 1.41.59.51 0 1.02-.2 1.41-.59l7.78-7.78 2.81-2.81c.8-.78.8-2.07 0-2.86zM5.41 20L4 18.59l7.72-7.72 1.47 1.35L5.41 20z\"/>\n",
       "  </svg>\n",
       "      </button>\n",
       "      \n",
       "  <style>\n",
       "    .colab-df-container {\n",
       "      display:flex;\n",
       "      flex-wrap:wrap;\n",
       "      gap: 12px;\n",
       "    }\n",
       "\n",
       "    .colab-df-convert {\n",
       "      background-color: #E8F0FE;\n",
       "      border: none;\n",
       "      border-radius: 50%;\n",
       "      cursor: pointer;\n",
       "      display: none;\n",
       "      fill: #1967D2;\n",
       "      height: 32px;\n",
       "      padding: 0 0 0 0;\n",
       "      width: 32px;\n",
       "    }\n",
       "\n",
       "    .colab-df-convert:hover {\n",
       "      background-color: #E2EBFA;\n",
       "      box-shadow: 0px 1px 2px rgba(60, 64, 67, 0.3), 0px 1px 3px 1px rgba(60, 64, 67, 0.15);\n",
       "      fill: #174EA6;\n",
       "    }\n",
       "\n",
       "    [theme=dark] .colab-df-convert {\n",
       "      background-color: #3B4455;\n",
       "      fill: #D2E3FC;\n",
       "    }\n",
       "\n",
       "    [theme=dark] .colab-df-convert:hover {\n",
       "      background-color: #434B5C;\n",
       "      box-shadow: 0px 1px 3px 1px rgba(0, 0, 0, 0.15);\n",
       "      filter: drop-shadow(0px 1px 2px rgba(0, 0, 0, 0.3));\n",
       "      fill: #FFFFFF;\n",
       "    }\n",
       "  </style>\n",
       "\n",
       "      <script>\n",
       "        const buttonEl =\n",
       "          document.querySelector('#df-e64d7993-e825-4e68-98b6-da11d8871283 button.colab-df-convert');\n",
       "        buttonEl.style.display =\n",
       "          google.colab.kernel.accessAllowed ? 'block' : 'none';\n",
       "\n",
       "        async function convertToInteractive(key) {\n",
       "          const element = document.querySelector('#df-e64d7993-e825-4e68-98b6-da11d8871283');\n",
       "          const dataTable =\n",
       "            await google.colab.kernel.invokeFunction('convertToInteractive',\n",
       "                                                     [key], {});\n",
       "          if (!dataTable) return;\n",
       "\n",
       "          const docLinkHtml = 'Like what you see? Visit the ' +\n",
       "            '<a target=\"_blank\" href=https://colab.research.google.com/notebooks/data_table.ipynb>data table notebook</a>'\n",
       "            + ' to learn more about interactive tables.';\n",
       "          element.innerHTML = '';\n",
       "          dataTable['output_type'] = 'display_data';\n",
       "          await google.colab.output.renderOutput(dataTable, element);\n",
       "          const docLink = document.createElement('div');\n",
       "          docLink.innerHTML = docLinkHtml;\n",
       "          element.appendChild(docLink);\n",
       "        }\n",
       "      </script>\n",
       "    </div>\n",
       "  </div>\n",
       "  "
      ],
      "text/plain": [
       "    employeeNumber   lastName firstName extension  \\\n",
       "0             1002     Murphy     Diane     x5800   \n",
       "1             1056  Patterson      Mary     x4611   \n",
       "2             1076   Firrelli      Jeff     x9273   \n",
       "3             1088  Patterson   William     x4871   \n",
       "4             1102     Bondur    Gerard     x5408   \n",
       "5             1143        Bow   Anthony     x5428   \n",
       "6             1165   Jennings    Leslie     x3291   \n",
       "7             1166   Thompson    Leslie     x4065   \n",
       "8             1188   Firrelli     Julie     x2173   \n",
       "9             1216  Patterson     Steve     x4334   \n",
       "10            1286      Tseng  Foon Yue     x2248   \n",
       "11            1323     Vanauf    George     x4102   \n",
       "12            1337     Bondur      Loui     x6493   \n",
       "13            1370  Hernandez    Gerard     x2028   \n",
       "14            1401   Castillo    Pamela     x2759   \n",
       "15            1501       Bott     Larry     x2311   \n",
       "16            1504      Jones     Barry      x102   \n",
       "17            1611     Fixter      Andy      x101   \n",
       "18            1612      Marsh     Peter      x102   \n",
       "19            1619       King       Tom      x103   \n",
       "20            1621      Nishi      Mami      x101   \n",
       "21            1625       Kato   Yoshimi      x102   \n",
       "22            1702     Gerard    Martin     x2312   \n",
       "\n",
       "                              email officeCode  reportsTo  \\\n",
       "0      dmurphy@classicmodelcars.com          1        NaN   \n",
       "1    mpatterso@classicmodelcars.com          1     1002.0   \n",
       "2    jfirrelli@classicmodelcars.com          1     1002.0   \n",
       "3   wpatterson@classicmodelcars.com          6     1056.0   \n",
       "4      gbondur@classicmodelcars.com          4     1056.0   \n",
       "5         abow@classicmodelcars.com          1     1056.0   \n",
       "6    ljennings@classicmodelcars.com          1     1143.0   \n",
       "7    lthompson@classicmodelcars.com          1     1143.0   \n",
       "8    jfirrelli@classicmodelcars.com          2     1143.0   \n",
       "9   spatterson@classicmodelcars.com          2     1143.0   \n",
       "10      ftseng@classicmodelcars.com          3     1143.0   \n",
       "11     gvanauf@classicmodelcars.com          3     1143.0   \n",
       "12     lbondur@classicmodelcars.com          4     1102.0   \n",
       "13   ghernande@classicmodelcars.com          4     1102.0   \n",
       "14   pcastillo@classicmodelcars.com          4     1102.0   \n",
       "15       lbott@classicmodelcars.com          7     1102.0   \n",
       "16      bjones@classicmodelcars.com          7     1102.0   \n",
       "17     afixter@classicmodelcars.com          6     1088.0   \n",
       "18      pmarsh@classicmodelcars.com          6     1088.0   \n",
       "19       tking@classicmodelcars.com          6     1088.0   \n",
       "20      mnishi@classicmodelcars.com          5     1056.0   \n",
       "21       ykato@classicmodelcars.com          5     1621.0   \n",
       "22     mgerard@classicmodelcars.com          4     1102.0   \n",
       "\n",
       "                jobTitle  \n",
       "0              President  \n",
       "1               VP Sales  \n",
       "2           VP Marketing  \n",
       "3   Sales Manager (APAC)  \n",
       "4    Sale Manager (EMEA)  \n",
       "5     Sales Manager (NA)  \n",
       "6              Sales Rep  \n",
       "7              Sales Rep  \n",
       "8              Sales Rep  \n",
       "9              Sales Rep  \n",
       "10             Sales Rep  \n",
       "11             Sales Rep  \n",
       "12             Sales Rep  \n",
       "13             Sales Rep  \n",
       "14             Sales Rep  \n",
       "15             Sales Rep  \n",
       "16             Sales Rep  \n",
       "17             Sales Rep  \n",
       "18             Sales Rep  \n",
       "19             Sales Rep  \n",
       "20             Sales Rep  \n",
       "21             Sales Rep  \n",
       "22             Sales Rep  "
      ]
     },
     "execution_count": 18,
     "metadata": {},
     "output_type": "execute_result"
    }
   ],
   "source": [
    "df"
   ]
  },
  {
   "cell_type": "code",
   "execution_count": 25,
   "metadata": {
    "executionInfo": {
     "elapsed": 581,
     "status": "ok",
     "timestamp": 1666254733726,
     "user": {
      "displayName": "Changwoo Kim",
      "userId": "10065437776619974099"
     },
     "user_tz": -540
    },
    "id": "nlpOrDYsfG74"
   },
   "outputs": [],
   "source": [
    "SQL = '''\n",
    "CREATE TABLE tempTable(\n",
    "  id TINYINT AUTO_INCREMENT,\n",
    "  user_name varchar(10) NOT NULL,\n",
    "  phone varchar(30) NULL,\n",
    "  PRIMARY KEY(id) \n",
    ")\n",
    "'''\n",
    "cursor = db.cursor()   # db에서 커서를 생성해서 가져온다.\n",
    "cursor.execute(SQL) # 커서한테 SQL을 실행시킨다.\n",
    "cursor.close() # 커서를 확정시키는 역할을 한다."
   ]
  },
  {
   "cell_type": "markdown",
   "metadata": {
    "id": "XgYeW_3AfaQO"
   },
   "source": [
    "* 테이블을 새로 만들어 본다.\n",
    "* 아이디가 입력할 때, 자동으로 증가한다."
   ]
  },
  {
   "cell_type": "code",
   "execution_count": 27,
   "metadata": {
    "executionInfo": {
     "elapsed": 291,
     "status": "ok",
     "timestamp": 1666255047971,
     "user": {
      "displayName": "Changwoo Kim",
      "userId": "10065437776619974099"
     },
     "user_tz": -540
    },
    "id": "nm1IOfNdhuiG"
   },
   "outputs": [],
   "source": [
    "SQL = \"INSERT INTO tempTable(user_name, phone) VALUES('Oh my girl', '010-1111-1111')\"\n",
    "\n",
    "cursor = db.cursor()\n",
    "cursor.execute(SQL)\n",
    "cursor.close()"
   ]
  },
  {
   "cell_type": "code",
   "execution_count": 29,
   "metadata": {
    "colab": {
     "base_uri": "https://localhost:8080/",
     "height": 81
    },
    "executionInfo": {
     "elapsed": 659,
     "status": "ok",
     "timestamp": 1666255100463,
     "user": {
      "displayName": "Changwoo Kim",
      "userId": "10065437776619974099"
     },
     "user_tz": -540
    },
    "id": "xEd34OMBieUp",
    "outputId": "277339d8-6426-4941-c94a-b1e2478cbd9c"
   },
   "outputs": [
    {
     "data": {
      "text/html": [
       "\n",
       "  <div id=\"df-593169ce-2ede-403a-abbc-b7e2360ab01a\">\n",
       "    <div class=\"colab-df-container\">\n",
       "      <div>\n",
       "<style scoped>\n",
       "    .dataframe tbody tr th:only-of-type {\n",
       "        vertical-align: middle;\n",
       "    }\n",
       "\n",
       "    .dataframe tbody tr th {\n",
       "        vertical-align: top;\n",
       "    }\n",
       "\n",
       "    .dataframe thead th {\n",
       "        text-align: right;\n",
       "    }\n",
       "</style>\n",
       "<table border=\"1\" class=\"dataframe\">\n",
       "  <thead>\n",
       "    <tr style=\"text-align: right;\">\n",
       "      <th></th>\n",
       "      <th>id</th>\n",
       "      <th>user_name</th>\n",
       "      <th>phone</th>\n",
       "    </tr>\n",
       "  </thead>\n",
       "  <tbody>\n",
       "    <tr>\n",
       "      <th>0</th>\n",
       "      <td>1</td>\n",
       "      <td>Oh my girl</td>\n",
       "      <td>010-1111-1111</td>\n",
       "    </tr>\n",
       "  </tbody>\n",
       "</table>\n",
       "</div>\n",
       "      <button class=\"colab-df-convert\" onclick=\"convertToInteractive('df-593169ce-2ede-403a-abbc-b7e2360ab01a')\"\n",
       "              title=\"Convert this dataframe to an interactive table.\"\n",
       "              style=\"display:none;\">\n",
       "        \n",
       "  <svg xmlns=\"http://www.w3.org/2000/svg\" height=\"24px\"viewBox=\"0 0 24 24\"\n",
       "       width=\"24px\">\n",
       "    <path d=\"M0 0h24v24H0V0z\" fill=\"none\"/>\n",
       "    <path d=\"M18.56 5.44l.94 2.06.94-2.06 2.06-.94-2.06-.94-.94-2.06-.94 2.06-2.06.94zm-11 1L8.5 8.5l.94-2.06 2.06-.94-2.06-.94L8.5 2.5l-.94 2.06-2.06.94zm10 10l.94 2.06.94-2.06 2.06-.94-2.06-.94-.94-2.06-.94 2.06-2.06.94z\"/><path d=\"M17.41 7.96l-1.37-1.37c-.4-.4-.92-.59-1.43-.59-.52 0-1.04.2-1.43.59L10.3 9.45l-7.72 7.72c-.78.78-.78 2.05 0 2.83L4 21.41c.39.39.9.59 1.41.59.51 0 1.02-.2 1.41-.59l7.78-7.78 2.81-2.81c.8-.78.8-2.07 0-2.86zM5.41 20L4 18.59l7.72-7.72 1.47 1.35L5.41 20z\"/>\n",
       "  </svg>\n",
       "      </button>\n",
       "      \n",
       "  <style>\n",
       "    .colab-df-container {\n",
       "      display:flex;\n",
       "      flex-wrap:wrap;\n",
       "      gap: 12px;\n",
       "    }\n",
       "\n",
       "    .colab-df-convert {\n",
       "      background-color: #E8F0FE;\n",
       "      border: none;\n",
       "      border-radius: 50%;\n",
       "      cursor: pointer;\n",
       "      display: none;\n",
       "      fill: #1967D2;\n",
       "      height: 32px;\n",
       "      padding: 0 0 0 0;\n",
       "      width: 32px;\n",
       "    }\n",
       "\n",
       "    .colab-df-convert:hover {\n",
       "      background-color: #E2EBFA;\n",
       "      box-shadow: 0px 1px 2px rgba(60, 64, 67, 0.3), 0px 1px 3px 1px rgba(60, 64, 67, 0.15);\n",
       "      fill: #174EA6;\n",
       "    }\n",
       "\n",
       "    [theme=dark] .colab-df-convert {\n",
       "      background-color: #3B4455;\n",
       "      fill: #D2E3FC;\n",
       "    }\n",
       "\n",
       "    [theme=dark] .colab-df-convert:hover {\n",
       "      background-color: #434B5C;\n",
       "      box-shadow: 0px 1px 3px 1px rgba(0, 0, 0, 0.15);\n",
       "      filter: drop-shadow(0px 1px 2px rgba(0, 0, 0, 0.3));\n",
       "      fill: #FFFFFF;\n",
       "    }\n",
       "  </style>\n",
       "\n",
       "      <script>\n",
       "        const buttonEl =\n",
       "          document.querySelector('#df-593169ce-2ede-403a-abbc-b7e2360ab01a button.colab-df-convert');\n",
       "        buttonEl.style.display =\n",
       "          google.colab.kernel.accessAllowed ? 'block' : 'none';\n",
       "\n",
       "        async function convertToInteractive(key) {\n",
       "          const element = document.querySelector('#df-593169ce-2ede-403a-abbc-b7e2360ab01a');\n",
       "          const dataTable =\n",
       "            await google.colab.kernel.invokeFunction('convertToInteractive',\n",
       "                                                     [key], {});\n",
       "          if (!dataTable) return;\n",
       "\n",
       "          const docLinkHtml = 'Like what you see? Visit the ' +\n",
       "            '<a target=\"_blank\" href=https://colab.research.google.com/notebooks/data_table.ipynb>data table notebook</a>'\n",
       "            + ' to learn more about interactive tables.';\n",
       "          element.innerHTML = '';\n",
       "          dataTable['output_type'] = 'display_data';\n",
       "          await google.colab.output.renderOutput(dataTable, element);\n",
       "          const docLink = document.createElement('div');\n",
       "          docLink.innerHTML = docLinkHtml;\n",
       "          element.appendChild(docLink);\n",
       "        }\n",
       "      </script>\n",
       "    </div>\n",
       "  </div>\n",
       "  "
      ],
      "text/plain": [
       "   id   user_name          phone\n",
       "0   1  Oh my girl  010-1111-1111"
      ]
     },
     "execution_count": 29,
     "metadata": {},
     "output_type": "execute_result"
    }
   ],
   "source": [
    "SQL = 'SELECT * FROM tempTable'\n",
    "df = pd.read_sql(SQL, db)\n",
    "df"
   ]
  },
  {
   "cell_type": "markdown",
   "metadata": {
    "id": "C8pkye_Yi5DW"
   },
   "source": [
    "* 읽기 타입을 사용한다."
   ]
  },
  {
   "cell_type": "code",
   "execution_count": null,
   "metadata": {
    "id": "VXxovByMixMp"
   },
   "outputs": [],
   "source": []
  }
 ],
 "metadata": {
  "colab": {
   "authorship_tag": "ABX9TyNmzq5J7IbKgxQJWmbnQc93",
   "collapsed_sections": [],
   "provenance": []
  },
  "kernelspec": {
   "display_name": "Python 3 (ipykernel)",
   "language": "python",
   "name": "python3"
  },
  "language_info": {
   "codemirror_mode": {
    "name": "ipython",
    "version": 3
   },
   "file_extension": ".py",
   "mimetype": "text/x-python",
   "name": "python",
   "nbconvert_exporter": "python",
   "pygments_lexer": "ipython3",
   "version": "3.9.12"
  }
 },
 "nbformat": 4,
 "nbformat_minor": 1
}
