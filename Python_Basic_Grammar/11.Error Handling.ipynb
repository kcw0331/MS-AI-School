{
 "cells": [
  {
   "cell_type": "markdown",
   "id": "c4269e7b",
   "metadata": {},
   "source": [
    "# Error Handling"
   ]
  },
  {
   "cell_type": "code",
   "execution_count": 1,
   "id": "0118b537",
   "metadata": {},
   "outputs": [
    {
     "ename": "ZeroDivisionError",
     "evalue": "division by zero",
     "output_type": "error",
     "traceback": [
      "\u001b[1;31m---------------------------------------------------------------------------\u001b[0m",
      "\u001b[1;31mZeroDivisionError\u001b[0m                         Traceback (most recent call last)",
      "Input \u001b[1;32mIn [1]\u001b[0m, in \u001b[0;36m<cell line: 1>\u001b[1;34m()\u001b[0m\n\u001b[1;32m----> 1\u001b[0m a \u001b[38;5;241m=\u001b[39m \u001b[38;5;241;43m12\u001b[39;49m\u001b[43m \u001b[49m\u001b[38;5;241;43m/\u001b[39;49m\u001b[43m \u001b[49m\u001b[38;5;241;43m0\u001b[39;49m\n",
      "\u001b[1;31mZeroDivisionError\u001b[0m: division by zero"
     ]
    }
   ],
   "source": [
    "a = 12 / 0"
   ]
  },
  {
   "cell_type": "code",
   "execution_count": 2,
   "id": "4cc64e5c",
   "metadata": {},
   "outputs": [
    {
     "name": "stdout",
     "output_type": "stream",
     "text": [
      "Error!!\n"
     ]
    }
   ],
   "source": [
    "try:\n",
    "    a = 12 / 0\n",
    "except:\n",
    "    print(\"Error!!\")"
   ]
  },
  {
   "cell_type": "code",
   "execution_count": 3,
   "id": "a78a9df0",
   "metadata": {},
   "outputs": [],
   "source": [
    "try:\n",
    "    a = 12 / 0\n",
    "except:\n",
    "    pass  # pass라고 치면 에러가 났지만 넘어간다."
   ]
  },
  {
   "cell_type": "code",
   "execution_count": 4,
   "id": "99eb97c4",
   "metadata": {},
   "outputs": [
    {
     "name": "stdout",
     "output_type": "stream",
     "text": [
      "에러의 원인은 division by zero\n"
     ]
    }
   ],
   "source": [
    "# 에러의 종류에 따라 다르게 표현하고 싶을 때 사용한다.\n",
    "\n",
    "try:\n",
    "    a = 12 / 0\n",
    "except Exception as e:  # 에러가 발생되었을 때, 에러의 종료를 표현해준다.\n",
    "    print(\"에러의 원인은\", e)"
   ]
  },
  {
   "cell_type": "markdown",
   "id": "46fa7d8b",
   "metadata": {},
   "source": [
    "# End"
   ]
  }
 ],
 "metadata": {
  "kernelspec": {
   "display_name": "Python 3 (ipykernel)",
   "language": "python",
   "name": "python3"
  },
  "language_info": {
   "codemirror_mode": {
    "name": "ipython",
    "version": 3
   },
   "file_extension": ".py",
   "mimetype": "text/x-python",
   "name": "python",
   "nbconvert_exporter": "python",
   "pygments_lexer": "ipython3",
   "version": "3.9.12"
  }
 },
 "nbformat": 4,
 "nbformat_minor": 5
}
