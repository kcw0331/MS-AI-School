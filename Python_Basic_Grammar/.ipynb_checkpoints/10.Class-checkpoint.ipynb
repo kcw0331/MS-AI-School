{
 "cells": [
  {
   "cell_type": "markdown",
   "id": "d45a82f9",
   "metadata": {},
   "source": [
    "# Class"
   ]
  },
  {
   "cell_type": "code",
   "execution_count": 1,
   "id": "bc796607",
   "metadata": {},
   "outputs": [],
   "source": [
    "class MyClass:\n",
    "    pass     # 내용을 구현하지 않을 때는 pass라고 해준다."
   ]
  },
  {
   "cell_type": "code",
   "execution_count": 2,
   "id": "d6a87987",
   "metadata": {},
   "outputs": [
    {
     "data": {
      "text/plain": [
       "__main__.MyClass"
      ]
     },
     "execution_count": 2,
     "metadata": {},
     "output_type": "execute_result"
    }
   ],
   "source": [
    "MyClass"
   ]
  },
  {
   "cell_type": "code",
   "execution_count": 3,
   "id": "763c0687",
   "metadata": {},
   "outputs": [
    {
     "data": {
      "text/plain": [
       "type"
      ]
     },
     "execution_count": 3,
     "metadata": {},
     "output_type": "execute_result"
    }
   ],
   "source": [
    "type(MyClass)  # 애를 특정할 수 있는게 아무것도 없어서 type이라고 나오게 된다."
   ]
  },
  {
   "cell_type": "code",
   "execution_count": 4,
   "id": "c2295e9e",
   "metadata": {},
   "outputs": [],
   "source": [
    "class Person:\n",
    "    Name = 'Default Name' # Perperty(속성)\n",
    "    \n",
    "    def Print(self): # 함수를 호출 시키는게 동작을 시키는 것이다.\n",
    "        print('My name is {0}'.format(self.Name))\n",
    "        "
   ]
  },
  {
   "cell_type": "code",
   "execution_count": 5,
   "id": "1bcde0f7",
   "metadata": {},
   "outputs": [],
   "source": [
    "son = Person()  # son을 만들어줘 하면 son이 생성되게 된다. 그래서 손이라는 사람이 만들어지게 된다."
   ]
  },
  {
   "cell_type": "code",
   "execution_count": 7,
   "id": "4b3f6d9d",
   "metadata": {},
   "outputs": [
    {
     "name": "stdout",
     "output_type": "stream",
     "text": [
      "My name is 손흥민\n"
     ]
    }
   ],
   "source": [
    "son.Name = '손흥민'\n",
    "son.Print()"
   ]
  },
  {
   "cell_type": "code",
   "execution_count": 8,
   "id": "70461322",
   "metadata": {},
   "outputs": [],
   "source": [
    "p1 = Person()\n",
    "p2 = Person()"
   ]
  },
  {
   "cell_type": "code",
   "execution_count": 9,
   "id": "9dd96247",
   "metadata": {},
   "outputs": [],
   "source": [
    "p1.Name = '박보검'\n",
    "p2.Name = '민아'"
   ]
  },
  {
   "cell_type": "code",
   "execution_count": 10,
   "id": "ed22b4b2",
   "metadata": {},
   "outputs": [
    {
     "name": "stdout",
     "output_type": "stream",
     "text": [
      "My name is 박보검\n",
      "My name is 민아\n"
     ]
    }
   ],
   "source": [
    "p1.Print()\n",
    "p2.Print()"
   ]
  },
  {
   "cell_type": "code",
   "execution_count": 12,
   "id": "5d19101d",
   "metadata": {},
   "outputs": [],
   "source": [
    "# instance 로 어떤 객체들을 찍어내었는지 알 수 있다.\n",
    "\n",
    "Person.title = 'New title'  # 이렇게 하게 되면, class에 title이라는 것을 추가 할 수 있다.\n",
    "# 설계도면이라는 title을 만들었다."
   ]
  },
  {
   "cell_type": "code",
   "execution_count": 13,
   "id": "10df7c60",
   "metadata": {},
   "outputs": [
    {
     "data": {
      "text/plain": [
       "'New title'"
      ]
     },
     "execution_count": 13,
     "metadata": {},
     "output_type": "execute_result"
    }
   ],
   "source": [
    "p1.title   # class를 만들고 객체를 찍어 내더라도 객"
   ]
  },
  {
   "cell_type": "code",
   "execution_count": 14,
   "id": "cd5886bc",
   "metadata": {},
   "outputs": [],
   "source": [
    "p1.age = 20  \n",
    "# 인스턴스에 새로운 속성을 추가하게 되면, 그 인스턴스 자체에만 새로운 속성이 추가가 된다. class 안에는 새로운 속성이 추가 되지 않는다."
   ]
  },
  {
   "cell_type": "code",
   "execution_count": 15,
   "id": "798ecc0f",
   "metadata": {},
   "outputs": [
    {
     "data": {
      "text/plain": [
       "20"
      ]
     },
     "execution_count": 15,
     "metadata": {},
     "output_type": "execute_result"
    }
   ],
   "source": [
    "p1.age"
   ]
  },
  {
   "cell_type": "code",
   "execution_count": 16,
   "id": "65eab632",
   "metadata": {},
   "outputs": [
    {
     "ename": "AttributeError",
     "evalue": "type object 'Person' has no attribute 'age'",
     "output_type": "error",
     "traceback": [
      "\u001b[1;31m---------------------------------------------------------------------------\u001b[0m",
      "\u001b[1;31mAttributeError\u001b[0m                            Traceback (most recent call last)",
      "Input \u001b[1;32mIn [16]\u001b[0m, in \u001b[0;36m<cell line: 1>\u001b[1;34m()\u001b[0m\n\u001b[1;32m----> 1\u001b[0m \u001b[43mPerson\u001b[49m\u001b[38;5;241;43m.\u001b[39;49m\u001b[43mage\u001b[49m\n",
      "\u001b[1;31mAttributeError\u001b[0m: type object 'Person' has no attribute 'age'"
     ]
    }
   ],
   "source": [
    "Person.age"
   ]
  },
  {
   "cell_type": "code",
   "execution_count": 17,
   "id": "de3b9546",
   "metadata": {},
   "outputs": [
    {
     "ename": "AttributeError",
     "evalue": "'Person' object has no attribute 'age'",
     "output_type": "error",
     "traceback": [
      "\u001b[1;31m---------------------------------------------------------------------------\u001b[0m",
      "\u001b[1;31mAttributeError\u001b[0m                            Traceback (most recent call last)",
      "Input \u001b[1;32mIn [17]\u001b[0m, in \u001b[0;36m<cell line: 1>\u001b[1;34m()\u001b[0m\n\u001b[1;32m----> 1\u001b[0m \u001b[43mp2\u001b[49m\u001b[38;5;241;43m.\u001b[39;49m\u001b[43mage\u001b[49m\n",
      "\u001b[1;31mAttributeError\u001b[0m: 'Person' object has no attribute 'age'"
     ]
    }
   ],
   "source": [
    "p2.age  # p1에 age = 20이라는 새로운 속성을 추가 하였기 때문에 p2.age는 안된다."
   ]
  },
  {
   "cell_type": "code",
   "execution_count": 18,
   "id": "05b96217",
   "metadata": {},
   "outputs": [],
   "source": [
    "# 클래스 상속\n",
    "\n",
    "class Person:\n",
    "    pass"
   ]
  },
  {
   "cell_type": "code",
   "execution_count": 19,
   "id": "5ff2d968",
   "metadata": {},
   "outputs": [],
   "source": [
    "class Bird:\n",
    "    pass"
   ]
  },
  {
   "cell_type": "code",
   "execution_count": 20,
   "id": "8bdcb6b3",
   "metadata": {},
   "outputs": [],
   "source": [
    "class Student(Person):  # 상속을 할 때는 Student(Person)을 하게 되면 상속을 받게 된다.\n",
    "    pass"
   ]
  },
  {
   "cell_type": "code",
   "execution_count": 21,
   "id": "ffa0c8cc",
   "metadata": {},
   "outputs": [],
   "source": [
    "p = Person() # p는 Person에서 만들어진 객체이다.\n",
    "s = Student() # s는 Student에서 만들어진 객체이다."
   ]
  },
  {
   "cell_type": "code",
   "execution_count": 23,
   "id": "fcb65929",
   "metadata": {},
   "outputs": [
    {
     "data": {
      "text/plain": [
       "True"
      ]
     },
     "execution_count": 23,
     "metadata": {},
     "output_type": "execute_result"
    }
   ],
   "source": [
    "isinstance(p, Person)"
   ]
  },
  {
   "cell_type": "code",
   "execution_count": 24,
   "id": "5b3e4c6e",
   "metadata": {},
   "outputs": [
    {
     "data": {
      "text/plain": [
       "True"
      ]
     },
     "execution_count": 24,
     "metadata": {},
     "output_type": "execute_result"
    }
   ],
   "source": [
    "isinstance(s, Person) # 같이 상속받은 애들은 같은 instance로 취급한다."
   ]
  },
  {
   "cell_type": "code",
   "execution_count": 25,
   "id": "e7d95018",
   "metadata": {},
   "outputs": [
    {
     "data": {
      "text/plain": [
       "True"
      ]
     },
     "execution_count": 25,
     "metadata": {},
     "output_type": "execute_result"
    }
   ],
   "source": [
    "isinstance(s, object) # 파이썬 상에서 모든 object는 모두 object이다. 그래서 모든 객체들과 호환이 된다."
   ]
  },
  {
   "cell_type": "code",
   "execution_count": 26,
   "id": "75453a01",
   "metadata": {},
   "outputs": [
    {
     "data": {
      "text/plain": [
       "False"
      ]
     },
     "execution_count": 26,
     "metadata": {},
     "output_type": "execute_result"
    }
   ],
   "source": [
    "isinstance(p, Bird)"
   ]
  },
  {
   "cell_type": "markdown",
   "id": "0c70870d",
   "metadata": {},
   "source": [
    "### 생성자, 소멸자"
   ]
  },
  {
   "cell_type": "code",
   "execution_count": 30,
   "id": "8378f974",
   "metadata": {},
   "outputs": [],
   "source": [
    "# 생성자, 소멸자\n",
    "\n",
    "class MyClass:\n",
    "    #생성자\n",
    "    def __init__(self, value): # 생성자는 이름이 정해져 있어서 __init__으로 해줘야 한다. value는 아무거나 바꾸어 주어도 된다.\n",
    "        self.Value = value\n",
    "        print('Class is created! Value = ', value)\n",
    "    \n",
    "    def __del__(self):\n",
    "        print('Class is deleted')"
   ]
  },
  {
   "cell_type": "code",
   "execution_count": 31,
   "id": "765de0f0",
   "metadata": {},
   "outputs": [
    {
     "name": "stdout",
     "output_type": "stream",
     "text": [
      "Class is created! Value =  10\n"
     ]
    }
   ],
   "source": [
    "m = MyClass(10)"
   ]
  },
  {
   "cell_type": "markdown",
   "id": "190e264e",
   "metadata": {},
   "source": [
    "* 생성될 때 움직이기 때문에 생성자이다."
   ]
  },
  {
   "cell_type": "code",
   "execution_count": 32,
   "id": "07e2540a",
   "metadata": {},
   "outputs": [
    {
     "name": "stdout",
     "output_type": "stream",
     "text": [
      "Class is deleted\n"
     ]
    }
   ],
   "source": [
    "del m    # 메모리상에 있는 object를 지운다."
   ]
  },
  {
   "cell_type": "markdown",
   "id": "525a827e",
   "metadata": {},
   "source": [
    "* 그럼 소멸자가 동작이 되었다는 것을 알 수 있다."
   ]
  },
  {
   "cell_type": "markdown",
   "id": "0f4ed0cf",
   "metadata": {},
   "source": [
    "### 정적 메소드"
   ]
  },
  {
   "cell_type": "code",
   "execution_count": 33,
   "id": "e93abe6d",
   "metadata": {},
   "outputs": [],
   "source": [
    "# 정적 메소드\n",
    "\n",
    "class CounterManager:\n",
    "    insCount = 0   # 몇개의 인스턴스가 만들어 졌는지 count를 해보는 것이다.\n",
    "    \n",
    "    def __init__(self):\n",
    "        CounterManager.insCount += 1 # 1씩 증가하겠끔 해준다.\n",
    "    \n",
    "    def printInstanceCount():\n",
    "        print('Instance Count:', CounterManager.insCount)"
   ]
  },
  {
   "cell_type": "code",
   "execution_count": 34,
   "id": "04116871",
   "metadata": {},
   "outputs": [],
   "source": [
    "# a = CounterManager()\n",
    "# b = CounterManager()\n",
    "# c = CounterManager()"
   ]
  },
  {
   "cell_type": "code",
   "execution_count": 35,
   "id": "3584a202",
   "metadata": {},
   "outputs": [],
   "source": [
    "a, b, c = CounterManager(), CounterManager(), CounterManager()"
   ]
  },
  {
   "cell_type": "code",
   "execution_count": 37,
   "id": "a5948fcc",
   "metadata": {},
   "outputs": [
    {
     "name": "stdout",
     "output_type": "stream",
     "text": [
      "Instance Count: 3\n"
     ]
    }
   ],
   "source": [
    "CounterManager.printInstanceCount()"
   ]
  },
  {
   "cell_type": "markdown",
   "id": "b45f87a1",
   "metadata": {},
   "source": [
    "* 3개의 인스턴스가 생성되었다는 것을 알 수 있다."
   ]
  },
  {
   "cell_type": "markdown",
   "id": "a72810ed",
   "metadata": {},
   "source": [
    "### 상속의 확장"
   ]
  },
  {
   "cell_type": "code",
   "execution_count": 72,
   "id": "7297c7ab",
   "metadata": {},
   "outputs": [],
   "source": [
    "# 상속의 확장\n",
    "\n",
    "class Person:\n",
    "    def __init__(self, name, phone): # class에서 만들어지는 instance는 무조건 self가 들어간다.\n",
    "        self.Name = name            # 속성과 \n",
    "        self.Phone = phone\n",
    "    \n",
    "    def PrintInfo(self):       # 매서드가 두개 있는 것을 알 수 있다.\n",
    "        print('Info(Name: {0}, Phone: {1})'.format(self.Name, self.Phone))\n",
    "    \n",
    "    def PrintPersonData(self):\n",
    "        print('Person(Name: {0}, Phone: {1})'.format(self.Name, self.Phone))"
   ]
  },
  {
   "cell_type": "code",
   "execution_count": 73,
   "id": "dca90b71",
   "metadata": {},
   "outputs": [],
   "source": [
    "# Student는 Person에서 상속을 받는다.\n",
    "class Student(Person):\n",
    "    \n",
    "    def __init__(self, name, phone, subject, studentID):\n",
    "        self.Name = name\n",
    "        self.Phone = phone\n",
    "        self.Subject = subject\n",
    "        self.StudentID = studentID\n",
    "        \n",
    "    def PrintStudentID(self):\n",
    "        print(self.StudentID)"
   ]
  },
  {
   "cell_type": "code",
   "execution_count": 74,
   "id": "35f31d32",
   "metadata": {},
   "outputs": [],
   "source": [
    "p = Person('IU','010-0000-0000')\n",
    "s = Student('MinA', '010-111-1111', 'Computer Science', '00000')"
   ]
  },
  {
   "cell_type": "code",
   "execution_count": 75,
   "id": "095a48ff",
   "metadata": {},
   "outputs": [
    {
     "data": {
      "text/plain": [
       "<__main__.Person at 0x264c6c78550>"
      ]
     },
     "execution_count": 75,
     "metadata": {},
     "output_type": "execute_result"
    }
   ],
   "source": [
    "p"
   ]
  },
  {
   "cell_type": "markdown",
   "id": "0fa925ed",
   "metadata": {},
   "source": [
    "* Person에 상속되어 있다는 것을 알 수 있다."
   ]
  },
  {
   "cell_type": "code",
   "execution_count": 76,
   "id": "9c334eeb",
   "metadata": {},
   "outputs": [
    {
     "data": {
      "text/plain": [
       "{'Name': 'IU', 'Phone': '010-0000-0000'}"
      ]
     },
     "execution_count": 76,
     "metadata": {},
     "output_type": "execute_result"
    }
   ],
   "source": [
    "p.__dict__"
   ]
  },
  {
   "cell_type": "markdown",
   "id": "a4e7a1f0",
   "metadata": {},
   "source": [
    "* __dict__를 하게 되면 p의 속성을 확인할 수 있다."
   ]
  },
  {
   "cell_type": "code",
   "execution_count": 77,
   "id": "d4dd0389",
   "metadata": {},
   "outputs": [
    {
     "data": {
      "text/plain": [
       "{'Name': 'MinA',\n",
       " 'Phone': '010-111-1111',\n",
       " 'Subject': 'Computer Science',\n",
       " 'StudentID': '00000'}"
      ]
     },
     "execution_count": 77,
     "metadata": {},
     "output_type": "execute_result"
    }
   ],
   "source": [
    "s.__dict__"
   ]
  },
  {
   "cell_type": "code",
   "execution_count": 78,
   "id": "79ec71a8",
   "metadata": {},
   "outputs": [
    {
     "name": "stdout",
     "output_type": "stream",
     "text": [
      "Info(Name: IU, Phone: 010-0000-0000)\n"
     ]
    }
   ],
   "source": [
    "p.PrintInfo()"
   ]
  },
  {
   "cell_type": "markdown",
   "id": "ff175b05",
   "metadata": {},
   "source": [
    "* 속성이 나오는 것을 알 수 있다."
   ]
  },
  {
   "cell_type": "code",
   "execution_count": 79,
   "id": "66836658",
   "metadata": {},
   "outputs": [
    {
     "name": "stdout",
     "output_type": "stream",
     "text": [
      "Info(Name: MinA, Phone: 010-111-1111)\n"
     ]
    }
   ],
   "source": [
    "s.PrintInfo()"
   ]
  },
  {
   "cell_type": "code",
   "execution_count": 80,
   "id": "f7d5442e",
   "metadata": {},
   "outputs": [
    {
     "name": "stdout",
     "output_type": "stream",
     "text": [
      "00000\n"
     ]
    }
   ],
   "source": [
    "s.PrintStudentID()"
   ]
  },
  {
   "cell_type": "markdown",
   "id": "4d72b863",
   "metadata": {},
   "source": [
    "### 상속 관계의 확인"
   ]
  },
  {
   "cell_type": "code",
   "execution_count": 81,
   "id": "5b4e5cdc",
   "metadata": {},
   "outputs": [
    {
     "data": {
      "text/plain": [
       "True"
      ]
     },
     "execution_count": 81,
     "metadata": {},
     "output_type": "execute_result"
    }
   ],
   "source": [
    "# 상속 관계의 확인 \n",
    "\n",
    "issubclass(Student, Person)"
   ]
  },
  {
   "cell_type": "code",
   "execution_count": 82,
   "id": "a7d5f3fe",
   "metadata": {},
   "outputs": [
    {
     "data": {
      "text/plain": [
       "False"
      ]
     },
     "execution_count": 82,
     "metadata": {},
     "output_type": "execute_result"
    }
   ],
   "source": [
    "issubclass(Person, Student)"
   ]
  },
  {
   "cell_type": "markdown",
   "id": "2a86d4e5",
   "metadata": {},
   "source": [
    "### 다중 상속"
   ]
  },
  {
   "cell_type": "code",
   "execution_count": 83,
   "id": "c67262e3",
   "metadata": {},
   "outputs": [],
   "source": [
    "# 다중 상속\n",
    "\n",
    "class Tiger:\n",
    "    def Jump(self):\n",
    "        print('Tiger Jump!!')\n",
    "        "
   ]
  },
  {
   "cell_type": "code",
   "execution_count": 84,
   "id": "ceb0445f",
   "metadata": {},
   "outputs": [],
   "source": [
    "class Lion:\n",
    "    def Bite(self):\n",
    "        print('Lion bite')"
   ]
  },
  {
   "cell_type": "code",
   "execution_count": 85,
   "id": "82e75840",
   "metadata": {},
   "outputs": [],
   "source": [
    "class Liger(Tiger, Lion):  # 다중 상속이 된 것이다.\n",
    "    def Play(self):\n",
    "        print('Liger player')"
   ]
  },
  {
   "cell_type": "code",
   "execution_count": 86,
   "id": "95576d24",
   "metadata": {},
   "outputs": [],
   "source": [
    "l = Liger()"
   ]
  },
  {
   "cell_type": "code",
   "execution_count": 87,
   "id": "76555e00",
   "metadata": {},
   "outputs": [
    {
     "name": "stdout",
     "output_type": "stream",
     "text": [
      "Liger player\n"
     ]
    }
   ],
   "source": [
    "l.Play()"
   ]
  },
  {
   "cell_type": "code",
   "execution_count": 88,
   "id": "83137a3a",
   "metadata": {},
   "outputs": [
    {
     "name": "stdout",
     "output_type": "stream",
     "text": [
      "Tiger Jump!!\n"
     ]
    }
   ],
   "source": [
    "l.Jump()"
   ]
  },
  {
   "cell_type": "code",
   "execution_count": 89,
   "id": "a9ff40e6",
   "metadata": {},
   "outputs": [
    {
     "name": "stdout",
     "output_type": "stream",
     "text": [
      "Lion bite\n"
     ]
    }
   ],
   "source": [
    "l.Bite()"
   ]
  },
  {
   "cell_type": "code",
   "execution_count": null,
   "id": "4262927b",
   "metadata": {},
   "outputs": [],
   "source": []
  }
 ],
 "metadata": {
  "kernelspec": {
   "display_name": "Python 3 (ipykernel)",
   "language": "python",
   "name": "python3"
  },
  "language_info": {
   "codemirror_mode": {
    "name": "ipython",
    "version": 3
   },
   "file_extension": ".py",
   "mimetype": "text/x-python",
   "name": "python",
   "nbconvert_exporter": "python",
   "pygments_lexer": "ipython3",
   "version": "3.9.12"
  }
 },
 "nbformat": 4,
 "nbformat_minor": 5
}
