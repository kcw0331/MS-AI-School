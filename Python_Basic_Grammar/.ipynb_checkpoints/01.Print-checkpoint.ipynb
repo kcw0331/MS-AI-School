{
 "cells": [
  {
   "cell_type": "markdown",
   "id": "cff51c21",
   "metadata": {},
   "source": [
    "# Python의 기초 문법(2022년 10월 13일)\n"
   ]
  },
  {
   "cell_type": "markdown",
   "id": "8d6949e1",
   "metadata": {},
   "source": [
    "## 1. print는 입력한 내용을 출력하는 기능을 해준다.\n",
    "* print출력하는 예는 아래와 같다."
   ]
  },
  {
   "cell_type": "code",
   "execution_count": 2,
   "id": "24878810",
   "metadata": {},
   "outputs": [
    {
     "name": "stdout",
     "output_type": "stream",
     "text": [
      "Hello World\n"
     ]
    }
   ],
   "source": [
    "print(\"Hello World\")"
   ]
  },
  {
   "cell_type": "code",
   "execution_count": 3,
   "id": "b740d80d",
   "metadata": {},
   "outputs": [
    {
     "name": "stdout",
     "output_type": "stream",
     "text": [
      "Hello \"안녕하세요\"\n"
     ]
    }
   ],
   "source": [
    "print('Hello \"안녕하세요\"')"
   ]
  },
  {
   "cell_type": "code",
   "execution_count": 5,
   "id": "e8cedb8d",
   "metadata": {},
   "outputs": [
    {
     "name": "stdout",
     "output_type": "stream",
     "text": [
      "Hello '안녕하세요'\n"
     ]
    }
   ],
   "source": [
    "print(\"Hello '안녕하세요'\")"
   ]
  },
  {
   "cell_type": "code",
   "execution_count": 6,
   "id": "7b611657",
   "metadata": {},
   "outputs": [
    {
     "name": "stdout",
     "output_type": "stream",
     "text": [
      "안녕 하세요 반갑습니다.\n"
     ]
    }
   ],
   "source": [
    "print('안녕','하세요','반갑습니다.')"
   ]
  },
  {
   "cell_type": "code",
   "execution_count": 7,
   "id": "9a79075b",
   "metadata": {},
   "outputs": [
    {
     "name": "stdout",
     "output_type": "stream",
     "text": [
      "안녕하세요반갑습니다.\n"
     ]
    }
   ],
   "source": [
    "print('안녕'+'하세요'+'반갑습니다.')"
   ]
  },
  {
   "cell_type": "code",
   "execution_count": 9,
   "id": "0ac07bc9",
   "metadata": {},
   "outputs": [
    {
     "name": "stdout",
     "output_type": "stream",
     "text": [
      "\n",
      "태양을 향해서라.\n",
      "그리하면 너는 그림자를 볼 수 없을 것이다.\n",
      "\n",
      "- 헬렌켈러 -\n",
      "\n"
     ]
    }
   ],
   "source": [
    "print(\"\"\"\n",
    "태양을 향해서라.\n",
    "그리하면 너는 그림자를 볼 수 없을 것이다.\n",
    "\n",
    "- 헬렌켈러 -\n",
    "\"\"\")"
   ]
  },
  {
   "cell_type": "code",
   "execution_count": null,
   "id": "0a94ed34",
   "metadata": {},
   "outputs": [],
   "source": [
    "\n",
    "\n",
    "print('Hello \\nnice to meet you ^^')"
   ]
  },
  {
   "cell_type": "markdown",
   "id": "7f6bdca7",
   "metadata": {},
   "source": [
    "* \\n을 사용하면 줄을 바꿀 수 있다."
   ]
  },
  {
   "cell_type": "markdown",
   "id": "62a3a677",
   "metadata": {},
   "source": [
    "### print에서 fomat을 사용하는 방법"
   ]
  },
  {
   "cell_type": "code",
   "execution_count": 14,
   "id": "df1f03ab",
   "metadata": {},
   "outputs": [
    {
     "name": "stdout",
     "output_type": "stream",
     "text": [
      "a = 123 b = 안녕하세요\n",
      "a = 123 b = 안녕하세요\n"
     ]
    }
   ],
   "source": [
    "a = 123\n",
    "b = '안녕하세요'\n",
    "\n",
    "print('a = {} b = {}'.format(a,b))  # <- 사람들은 이 방법을 선호한다.\n",
    "print(f'a = {a} b = {b}')"
   ]
  }
 ],
 "metadata": {
  "kernelspec": {
   "display_name": "Python 3 (ipykernel)",
   "language": "python",
   "name": "python3"
  },
  "language_info": {
   "codemirror_mode": {
    "name": "ipython",
    "version": 3
   },
   "file_extension": ".py",
   "mimetype": "text/x-python",
   "name": "python",
   "nbconvert_exporter": "python",
   "pygments_lexer": "ipython3",
   "version": "3.9.12"
  }
 },
 "nbformat": 4,
 "nbformat_minor": 5
}
