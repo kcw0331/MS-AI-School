{
 "cells": [
  {
   "cell_type": "markdown",
   "id": "abf2ac05",
   "metadata": {},
   "source": [
    "# Operator"
   ]
  },
  {
   "cell_type": "code",
   "execution_count": 2,
   "id": "3a606961",
   "metadata": {},
   "outputs": [
    {
     "name": "stdout",
     "output_type": "stream",
     "text": [
      "30\n",
      "-10\n",
      "200\n",
      "0.5\n"
     ]
    }
   ],
   "source": [
    "print(10 + 20)\n",
    "print(10 - 20)\n",
    "print(10 * 20)\n",
    "print(10 / 20)"
   ]
  },
  {
   "cell_type": "code",
   "execution_count": 3,
   "id": "5b2a37eb",
   "metadata": {},
   "outputs": [
    {
     "name": "stdout",
     "output_type": "stream",
     "text": [
      "100\n",
      "1000\n",
      "10000\n"
     ]
    }
   ],
   "source": [
    "print(10**2)\n",
    "print(10**3)\n",
    "print(10**4)"
   ]
  },
  {
   "cell_type": "code",
   "execution_count": 4,
   "id": "16d7d663",
   "metadata": {},
   "outputs": [
    {
     "name": "stdout",
     "output_type": "stream",
     "text": [
      "6\n",
      "4\n"
     ]
    }
   ],
   "source": [
    "print(40//6) # 몫\n",
    "print(40%6) # 나머지"
   ]
  },
  {
   "cell_type": "code",
   "execution_count": 8,
   "id": "48657166",
   "metadata": {},
   "outputs": [
    {
     "name": "stdout",
     "output_type": "stream",
     "text": [
      "0\n",
      "1\n",
      "1\n",
      "1\n",
      "False\n",
      "True\n",
      "True\n",
      "True\n"
     ]
    }
   ],
   "source": [
    "print(0 or 0)\n",
    "print(0 or 1)\n",
    "print(1 or 0)\n",
    "print(1 or 1)\n",
    "print(False or False)\n",
    "print(True or False)\n",
    "print(False or True)\n",
    "print(True or True)"
   ]
  },
  {
   "cell_type": "code",
   "execution_count": 11,
   "id": "7bb6d5c7",
   "metadata": {},
   "outputs": [
    {
     "name": "stdout",
     "output_type": "stream",
     "text": [
      "True\n"
     ]
    }
   ],
   "source": [
    "print(True)"
   ]
  },
  {
   "cell_type": "code",
   "execution_count": 10,
   "id": "3c0a5c00",
   "metadata": {},
   "outputs": [
    {
     "name": "stdout",
     "output_type": "stream",
     "text": [
      "False\n"
     ]
    }
   ],
   "source": [
    "print(not True)"
   ]
  },
  {
   "cell_type": "code",
   "execution_count": 24,
   "id": "b412495b",
   "metadata": {},
   "outputs": [
    {
     "name": "stdout",
     "output_type": "stream",
     "text": [
      "True\n",
      "True\n",
      "True\n",
      "False\n",
      "True\n",
      "False\n"
     ]
    }
   ],
   "source": [
    "print(10 == 10)\n",
    "print(10 >= 10)\n",
    "print(10 <= 10)\n",
    "print(10 < 5)\n",
    "print(10 > 5)\n",
    "print(10 != 10)"
   ]
  },
  {
   "cell_type": "markdown",
   "id": "cd1bd1af",
   "metadata": {},
   "source": [
    "## in 연산자"
   ]
  },
  {
   "cell_type": "code",
   "execution_count": 31,
   "id": "d07a763d",
   "metadata": {},
   "outputs": [],
   "source": [
    "# in 연산자\n",
    "\n",
    "a_list = ['a', 2, 'hello', 3]"
   ]
  },
  {
   "cell_type": "code",
   "execution_count": 28,
   "id": "7d003f06",
   "metadata": {},
   "outputs": [
    {
     "name": "stdout",
     "output_type": "stream",
     "text": [
      "True\n"
     ]
    }
   ],
   "source": [
    "print('a' in a_list)  # 리스트 안에 a의 값이 있는지 없는지 확인 해주는 것을 해준다."
   ]
  },
  {
   "cell_type": "code",
   "execution_count": 33,
   "id": "7f726fce",
   "metadata": {},
   "outputs": [
    {
     "name": "stdout",
     "output_type": "stream",
     "text": [
      "True\n",
      "False\n",
      "True\n"
     ]
    }
   ],
   "source": [
    "print('a' in a_list)\n",
    "print(1 in a_list)\n",
    "print('hello' in a_list)"
   ]
  },
  {
   "cell_type": "code",
   "execution_count": null,
   "id": "c6156ee8",
   "metadata": {},
   "outputs": [],
   "source": []
  }
 ],
 "metadata": {
  "kernelspec": {
   "display_name": "Python 3 (ipykernel)",
   "language": "python",
   "name": "python3"
  },
  "language_info": {
   "codemirror_mode": {
    "name": "ipython",
    "version": 3
   },
   "file_extension": ".py",
   "mimetype": "text/x-python",
   "name": "python",
   "nbconvert_exporter": "python",
   "pygments_lexer": "ipython3",
   "version": "3.9.12"
  }
 },
 "nbformat": 4,
 "nbformat_minor": 5
}
