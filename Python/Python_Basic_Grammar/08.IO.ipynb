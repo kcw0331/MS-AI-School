{
 "cells": [
  {
   "cell_type": "markdown",
   "id": "be32f8c9",
   "metadata": {},
   "source": [
    "# IO"
   ]
  },
  {
   "cell_type": "code",
   "execution_count": 1,
   "id": "86054718",
   "metadata": {},
   "outputs": [
    {
     "name": "stdout",
     "output_type": "stream",
     "text": [
      "Hello World\n"
     ]
    }
   ],
   "source": [
    "print('Hello World')"
   ]
  },
  {
   "cell_type": "markdown",
   "id": "e2b2420b",
   "metadata": {},
   "source": [
    "* 파이프가 화면 쪽으로 찍히게 되는 거다."
   ]
  },
  {
   "cell_type": "code",
   "execution_count": 2,
   "id": "825dc0b8",
   "metadata": {},
   "outputs": [],
   "source": [
    "import sys  # 시스템을 사용할 때는 sys를 사용한다."
   ]
  },
  {
   "cell_type": "code",
   "execution_count": 3,
   "id": "a6cb7bd6",
   "metadata": {},
   "outputs": [
    {
     "name": "stdout",
     "output_type": "stream",
     "text": [
      "Welcome to Python\n"
     ]
    }
   ],
   "source": [
    "print('Welcome to', 'Python')  # 아무소리를 안하면 표준 출력이 화면이다."
   ]
  },
  {
   "cell_type": "code",
   "execution_count": 4,
   "id": "e41b180c",
   "metadata": {},
   "outputs": [
    {
     "name": "stderr",
     "output_type": "stream",
     "text": [
      "Welcome to Python\n"
     ]
    }
   ],
   "source": [
    "print('Welcome to', 'Python', file=sys.stderr) # sys.stderr는 시스템인데 출력을 에러로 나게 하는 것이다."
   ]
  },
  {
   "cell_type": "code",
   "execution_count": 5,
   "id": "7dcfbff4",
   "metadata": {},
   "outputs": [],
   "source": [
    "f = open('test.txt', 'w') # w로 하게 되면, 쓰기 모드로 하게 된다."
   ]
  },
  {
   "cell_type": "code",
   "execution_count": 7,
   "id": "ad5ce73e",
   "metadata": {},
   "outputs": [],
   "source": [
    "print('file write', file = f)\n",
    "f.close()"
   ]
  },
  {
   "cell_type": "markdown",
   "id": "923ad2d0",
   "metadata": {},
   "source": [
    "### 파일 입출력을 하기 위한 몇가지 테크닉."
   ]
  },
  {
   "cell_type": "markdown",
   "id": "2e77a2ef",
   "metadata": {},
   "source": [
    "## File IO\n",
    "file 입출력을 다루다 보면, print를 사용 할 수도 있지만 open을 사용하는게 좋다."
   ]
  },
  {
   "cell_type": "code",
   "execution_count": 8,
   "id": "0e8a24c8",
   "metadata": {},
   "outputs": [],
   "source": [
    "f = open('test.txt', 'w')\n",
    "f.write('plow deep \\nwhile sluggards sleep') # <- print를 사용하기 보다는 open에서 write()를 사용하는게 더 좋다.\n",
    "f.close()"
   ]
  },
  {
   "cell_type": "code",
   "execution_count": 11,
   "id": "858401d2",
   "metadata": {},
   "outputs": [],
   "source": [
    "f = open('test.txt', 'r') # open을 사용해서 문서를 읽어 올 때는 'r'을 사용해서 읽어와 준다.\n",
    "f.read()  # 파일의 내용을 읽어온 것을 화면에 출력을 할 때는 read()를 사용해서 볼 수 있다.\n",
    "f.close()"
   ]
  },
  {
   "cell_type": "markdown",
   "id": "bbf5c7c4",
   "metadata": {},
   "source": [
    "* 읽어 왔으면, close()를 사용해서 끝내 주어야 한다."
   ]
  },
  {
   "cell_type": "code",
   "execution_count": null,
   "id": "43202aba",
   "metadata": {},
   "outputs": [],
   "source": []
  }
 ],
 "metadata": {
  "kernelspec": {
   "display_name": "Python 3 (ipykernel)",
   "language": "python",
   "name": "python3"
  },
  "language_info": {
   "codemirror_mode": {
    "name": "ipython",
    "version": 3
   },
   "file_extension": ".py",
   "mimetype": "text/x-python",
   "name": "python",
   "nbconvert_exporter": "python",
   "pygments_lexer": "ipython3",
   "version": "3.9.12"
  }
 },
 "nbformat": 4,
 "nbformat_minor": 5
}
