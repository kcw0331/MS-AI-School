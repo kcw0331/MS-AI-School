{
 "cells": [
  {
   "cell_type": "markdown",
   "id": "a04cdacd",
   "metadata": {},
   "source": [
    "# 2022년 11월 22일 - 통계 (판다스에 대해 다루어 본다.)"
   ]
  },
  {
   "cell_type": "code",
   "execution_count": 1,
   "id": "a4b48538",
   "metadata": {},
   "outputs": [],
   "source": [
    "import pandas as pd"
   ]
  },
  {
   "cell_type": "code",
   "execution_count": 3,
   "id": "2175aef3",
   "metadata": {},
   "outputs": [
    {
     "data": {
      "text/plain": [
       "서울     1116\n",
       "부산    12259\n",
       "인천    65119\n",
       "대구    16699\n",
       "dtype: int64"
      ]
     },
     "execution_count": 3,
     "metadata": {},
     "output_type": "execute_result"
    }
   ],
   "source": [
    "s = pd.Series([1116, 12259, 65119, 16699], index = ['서울', '부산', '인천', '대구'])\n",
    "s"
   ]
  },
  {
   "cell_type": "markdown",
   "id": "a45eb9bd",
   "metadata": {},
   "source": [
    "* 인덱스의 순서도 중요하니 잘 써주어야 한다."
   ]
  },
  {
   "cell_type": "code",
   "execution_count": 5,
   "id": "b527ed76",
   "metadata": {},
   "outputs": [
    {
     "data": {
      "text/plain": [
       "Index(['서울', '부산', '인천', '대구'], dtype='object')"
      ]
     },
     "execution_count": 5,
     "metadata": {},
     "output_type": "execute_result"
    }
   ],
   "source": [
    "s.index"
   ]
  },
  {
   "cell_type": "markdown",
   "id": "8e931d0a",
   "metadata": {},
   "source": [
    "* object로 되어 있는 것을 볼 수 있다. 만약 index를 넣지 않는다면, range처럼 만들어지게 된다."
   ]
  },
  {
   "cell_type": "code",
   "execution_count": 6,
   "id": "46bdf856",
   "metadata": {},
   "outputs": [
    {
     "data": {
      "text/plain": [
       "array([ 1116, 12259, 65119, 16699], dtype=int64)"
      ]
     },
     "execution_count": 6,
     "metadata": {},
     "output_type": "execute_result"
    }
   ],
   "source": [
    "s.values"
   ]
  },
  {
   "cell_type": "markdown",
   "id": "6a5d1b3e",
   "metadata": {},
   "source": [
    "* 자신이 가지고 있는 타입이 어떤건지 아는 것도 중요하다."
   ]
  },
  {
   "cell_type": "code",
   "execution_count": 7,
   "id": "1a5c6224",
   "metadata": {},
   "outputs": [],
   "source": [
    "s.name = '농작물 생산량(톤)' # 이름이 어떤 것인지 명시를 해줄 수 있다."
   ]
  },
  {
   "cell_type": "code",
   "execution_count": 9,
   "id": "d6f6b9d5",
   "metadata": {},
   "outputs": [],
   "source": [
    "s.index.name = '지역구' # 인덱스의 이름을 정해 줄 수 있다."
   ]
  },
  {
   "cell_type": "code",
   "execution_count": 10,
   "id": "2c3af9f6",
   "metadata": {},
   "outputs": [
    {
     "data": {
      "text/plain": [
       "지역구\n",
       "서울     1116\n",
       "부산    12259\n",
       "인천    65119\n",
       "대구    16699\n",
       "Name: 농작물 생산량(톤), dtype: int64"
      ]
     },
     "execution_count": 10,
     "metadata": {},
     "output_type": "execute_result"
    }
   ],
   "source": [
    "s"
   ]
  },
  {
   "cell_type": "code",
   "execution_count": 12,
   "id": "1baea062",
   "metadata": {},
   "outputs": [],
   "source": [
    " s1 = s / 1000"
   ]
  },
  {
   "cell_type": "markdown",
   "id": "32889091",
   "metadata": {},
   "source": [
    "* 안에 있는 values의 값들이 1000의로 나누어져 있다는 것을 알 수 있다."
   ]
  },
  {
   "cell_type": "code",
   "execution_count": 13,
   "id": "3c205788",
   "metadata": {},
   "outputs": [],
   "source": [
    "s1.name = '농작물 생산량(k톤)'"
   ]
  },
  {
   "cell_type": "code",
   "execution_count": 14,
   "id": "3738dee0",
   "metadata": {},
   "outputs": [
    {
     "data": {
      "text/plain": [
       "지역구\n",
       "서울     1.116\n",
       "부산    12.259\n",
       "인천    65.119\n",
       "대구    16.699\n",
       "Name: 농작물 생산량(k톤), dtype: float64"
      ]
     },
     "execution_count": 14,
     "metadata": {},
     "output_type": "execute_result"
    }
   ],
   "source": [
    "s1"
   ]
  },
  {
   "cell_type": "code",
   "execution_count": 16,
   "id": "294747ce",
   "metadata": {},
   "outputs": [
    {
     "data": {
      "text/plain": [
       "지역구\n",
       "서울    0.03\n",
       "부산    0.28\n",
       "인천    1.46\n",
       "대구    0.37\n",
       "Name: 농작물 생산량(톤), dtype: float64"
      ]
     },
     "execution_count": 16,
     "metadata": {},
     "output_type": "execute_result"
    }
   ],
   "source": [
    "(s / 4456952 * 100).round(2) # round를 사용해서 소수점 둘째자리까지 나타낸다."
   ]
  },
  {
   "cell_type": "markdown",
   "id": "7c744d3d",
   "metadata": {},
   "source": [
    "* 각 지역마다 비율을 나타내본다."
   ]
  },
  {
   "cell_type": "code",
   "execution_count": 17,
   "id": "f0513ac4",
   "metadata": {},
   "outputs": [
    {
     "data": {
      "text/plain": [
       "지역구\n",
       "서울     1116\n",
       "부산    12259\n",
       "인천    65119\n",
       "대구    16699\n",
       "Name: 농작물 생산량(톤), dtype: int64"
      ]
     },
     "execution_count": 17,
     "metadata": {},
     "output_type": "execute_result"
    }
   ],
   "source": [
    "s"
   ]
  },
  {
   "cell_type": "code",
   "execution_count": 29,
   "id": "3b39d31f",
   "metadata": {},
   "outputs": [
    {
     "data": {
      "text/plain": [
       "(1116, 1116, 1116)"
      ]
     },
     "execution_count": 29,
     "metadata": {},
     "output_type": "execute_result"
    }
   ],
   "source": [
    "s[0], s['서울'], s.서울"
   ]
  },
  {
   "cell_type": "markdown",
   "id": "548aaa45",
   "metadata": {},
   "source": [
    "* 서울이라는 키값으로 접근이 가능하지만, 상대적인 인덱스로도 접근이 가능한다."
   ]
  },
  {
   "cell_type": "code",
   "execution_count": 21,
   "id": "6257ab3d",
   "metadata": {},
   "outputs": [
    {
     "data": {
      "text/plain": [
       "지역구\n",
       "서울     1116\n",
       "부산    12259\n",
       "Name: 농작물 생산량(톤), dtype: int64"
      ]
     },
     "execution_count": 21,
     "metadata": {},
     "output_type": "execute_result"
    }
   ],
   "source": [
    "s[[0, 1]]"
   ]
  },
  {
   "cell_type": "code",
   "execution_count": 20,
   "id": "14f53f9f",
   "metadata": {},
   "outputs": [
    {
     "data": {
      "text/plain": [
       "지역구\n",
       "부산    12259\n",
       "서울     1116\n",
       "Name: 농작물 생산량(톤), dtype: int64"
      ]
     },
     "execution_count": 20,
     "metadata": {},
     "output_type": "execute_result"
    }
   ],
   "source": [
    "s[[1, 0]]"
   ]
  },
  {
   "cell_type": "code",
   "execution_count": 22,
   "id": "cf56253d",
   "metadata": {},
   "outputs": [
    {
     "data": {
      "text/plain": [
       "지역구\n",
       "부산    12259\n",
       "서울     1116\n",
       "Name: 농작물 생산량(톤), dtype: int64"
      ]
     },
     "execution_count": 22,
     "metadata": {},
     "output_type": "execute_result"
    }
   ],
   "source": [
    "s[['부산', '서울']]"
   ]
  },
  {
   "cell_type": "markdown",
   "id": "1d856eea",
   "metadata": {},
   "source": [
    "* 인덱스로 가지고 오는 것 보다 키값으로 들고 오는 것이 더 안전하다고 볼 수 있다."
   ]
  },
  {
   "cell_type": "code",
   "execution_count": 23,
   "id": "ddbcc716",
   "metadata": {},
   "outputs": [
    {
     "data": {
      "text/plain": [
       "지역구\n",
       "부산    12259\n",
       "인천    65119\n",
       "대구    16699\n",
       "Name: 농작물 생산량(톤), dtype: int64"
      ]
     },
     "execution_count": 23,
     "metadata": {},
     "output_type": "execute_result"
    }
   ],
   "source": [
    "s[s > 10000]"
   ]
  },
  {
   "cell_type": "markdown",
   "id": "c4f7a22e",
   "metadata": {},
   "source": [
    "* s의 값이 10000이상인 서울, 부산, 인천에 대한 값만 가지고 올 수 있다."
   ]
  },
  {
   "cell_type": "markdown",
   "id": "51d4823f",
   "metadata": {},
   "source": [
    "### 조건과 연산을 넣어 필요한 데이터 가지고 옴."
   ]
  },
  {
   "cell_type": "code",
   "execution_count": 25,
   "id": "b908e4d0",
   "metadata": {},
   "outputs": [
    {
     "data": {
      "text/plain": [
       "지역구\n",
       "부산    12259\n",
       "대구    16699\n",
       "Name: 농작물 생산량(톤), dtype: int64"
      ]
     },
     "execution_count": 25,
     "metadata": {},
     "output_type": "execute_result"
    }
   ],
   "source": [
    "s[(s > 10000) & (s < 20000)]"
   ]
  },
  {
   "cell_type": "markdown",
   "id": "0978faeb",
   "metadata": {},
   "source": [
    "* 괄호를 쳐줘서 연산자를 구분해준다."
   ]
  },
  {
   "cell_type": "code",
   "execution_count": 26,
   "id": "005ff463",
   "metadata": {},
   "outputs": [
    {
     "data": {
      "text/plain": [
       "지역구\n",
       "인천    65119\n",
       "Name: 농작물 생산량(톤), dtype: int64"
      ]
     },
     "execution_count": 26,
     "metadata": {},
     "output_type": "execute_result"
    }
   ],
   "source": [
    "s[(s / 4456952 * 100) > 0.5] "
   ]
  },
  {
   "cell_type": "code",
   "execution_count": 27,
   "id": "17bcc1a7",
   "metadata": {},
   "outputs": [
    {
     "data": {
      "text/plain": [
       "지역구\n",
       "부산    12259\n",
       "인천    65119\n",
       "Name: 농작물 생산량(톤), dtype: int64"
      ]
     },
     "execution_count": 27,
     "metadata": {},
     "output_type": "execute_result"
    }
   ],
   "source": [
    "s[1:3] # 인덱스로 접근하게 되면, 1부터 2까지만 접근이 가능하게 된다."
   ]
  },
  {
   "cell_type": "code",
   "execution_count": 28,
   "id": "9cdc54e8",
   "metadata": {},
   "outputs": [
    {
     "data": {
      "text/plain": [
       "지역구\n",
       "서울     1116\n",
       "부산    12259\n",
       "인천    65119\n",
       "대구    16699\n",
       "Name: 농작물 생산량(톤), dtype: int64"
      ]
     },
     "execution_count": 28,
     "metadata": {},
     "output_type": "execute_result"
    }
   ],
   "source": [
    "s['서울' : '대구'] # 슬라이싱을 키값으로 하게되면, 서울부터 대구까지 나오게 된다."
   ]
  },
  {
   "cell_type": "markdown",
   "id": "629976b9",
   "metadata": {},
   "source": [
    "* 슬라이싱을 할 때, 인덱스와 키값이 접근하는 방법이 조금 다르다는 것을 알 수 있다."
   ]
  },
  {
   "cell_type": "code",
   "execution_count": 37,
   "id": "a4fcfbdd",
   "metadata": {},
   "outputs": [
    {
     "data": {
      "text/plain": [
       "서울    1\n",
       "부산    2\n",
       "dtype: int64"
      ]
     },
     "execution_count": 37,
     "metadata": {},
     "output_type": "execute_result"
    }
   ],
   "source": [
    "d1 = {'서울' : 1, '부산' : 2}\n",
    "pd.Series(d1) # d1을 가지고와서 Series로 만드는 것도 가능하다."
   ]
  },
  {
   "cell_type": "code",
   "execution_count": 33,
   "id": "680e6b6d",
   "metadata": {},
   "outputs": [
    {
     "name": "stdout",
     "output_type": "stream",
     "text": [
      "서울 1116\n",
      "부산 12259\n",
      "인천 65119\n",
      "대구 16699\n"
     ]
    }
   ],
   "source": [
    "for k, v in s.items():\n",
    "    print(k, v) # key와 value가 쌍으로 들어가 있는 것을 볼 수 있다."
   ]
  },
  {
   "cell_type": "code",
   "execution_count": 36,
   "id": "90bed07f",
   "metadata": {},
   "outputs": [
    {
     "name": "stdout",
     "output_type": "stream",
     "text": [
      "False\n"
     ]
    },
    {
     "data": {
      "text/plain": [
       "True"
      ]
     },
     "execution_count": 36,
     "metadata": {},
     "output_type": "execute_result"
    }
   ],
   "source": [
    "print('제주도' in s) # s 안에 들어있는지 없는지를 확인할 수 있다.\n",
    "'서울' in s.keys()"
   ]
  },
  {
   "cell_type": "code",
   "execution_count": 38,
   "id": "49beaf74",
   "metadata": {},
   "outputs": [
    {
     "data": {
      "text/plain": [
       "서울     1116\n",
       "부산    12259\n",
       "인천    65119\n",
       "대구    16699\n",
       "dtype: int64"
      ]
     },
     "execution_count": 38,
     "metadata": {},
     "output_type": "execute_result"
    }
   ],
   "source": [
    "s21 = pd.Series([1116, 12259, 65119, 16699], index = ['서울', '부산', '인천', '대구'])\n",
    "s21"
   ]
  },
  {
   "cell_type": "code",
   "execution_count": 39,
   "id": "5a4cd661",
   "metadata": {},
   "outputs": [],
   "source": [
    "s20 = pd.Series([628, 11075, 56013, 15695], index = ['서울', '부산', '인천', '대구'])"
   ]
  },
  {
   "cell_type": "code",
   "execution_count": 40,
   "id": "8a47356a",
   "metadata": {},
   "outputs": [
    {
     "data": {
      "text/plain": [
       "서울     488\n",
       "부산    1184\n",
       "인천    9106\n",
       "대구    1004\n",
       "dtype: int64"
      ]
     },
     "execution_count": 40,
     "metadata": {},
     "output_type": "execute_result"
    }
   ],
   "source": [
    "s21 - s20"
   ]
  },
  {
   "cell_type": "markdown",
   "id": "6da9fc8d",
   "metadata": {},
   "source": [
    "* 같은 인덱스여야만 계산이 된다."
   ]
  },
  {
   "cell_type": "code",
   "execution_count": 42,
   "id": "34bc1d89",
   "metadata": {},
   "outputs": [
    {
     "data": {
      "text/plain": [
       "제주도     1116\n",
       "부산     12259\n",
       "인천     65119\n",
       "대구     16699\n",
       "dtype: int64"
      ]
     },
     "execution_count": 42,
     "metadata": {},
     "output_type": "execute_result"
    }
   ],
   "source": [
    "s21 = pd.Series([1116, 12259, 65119, 16699], index = ['제주도', '부산', '인천', '대구'])\n",
    "s21"
   ]
  },
  {
   "cell_type": "code",
   "execution_count": 43,
   "id": "ab7a0a49",
   "metadata": {},
   "outputs": [],
   "source": [
    "s20 = pd.Series([628, 11075, 56013, 15695], index = ['서울', '부산', '인천', '대구'])"
   ]
  },
  {
   "cell_type": "code",
   "execution_count": 44,
   "id": "3226cc25",
   "metadata": {},
   "outputs": [
    {
     "data": {
      "text/plain": [
       "대구     1004.0\n",
       "부산     1184.0\n",
       "서울        NaN\n",
       "인천     9106.0\n",
       "제주도       NaN\n",
       "dtype: float64"
      ]
     },
     "execution_count": 44,
     "metadata": {},
     "output_type": "execute_result"
    }
   ],
   "source": [
    "s21 - s20"
   ]
  },
  {
   "cell_type": "code",
   "execution_count": 41,
   "id": "f33718f7",
   "metadata": {},
   "outputs": [
    {
     "data": {
      "text/plain": [
       "float"
      ]
     },
     "execution_count": 41,
     "metadata": {},
     "output_type": "execute_result"
    }
   ],
   "source": [
    "import numpy as np\n",
    "type(np.nan)"
   ]
  },
  {
   "cell_type": "markdown",
   "id": "8c9c89e6",
   "metadata": {},
   "source": [
    "* 인덱스가 서로 맞지 않게 되면, NaN의 값이 나오게 되는 것을 알 수 있다."
   ]
  },
  {
   "cell_type": "code",
   "execution_count": 49,
   "id": "34dc8414",
   "metadata": {},
   "outputs": [],
   "source": [
    "s_sub = s21.sub(s20, fill_value = 0) "
   ]
  },
  {
   "cell_type": "markdown",
   "id": "207a9085",
   "metadata": {},
   "source": [
    "* fill_value하게 되면, 없는 데이터는 0으로 가정하고 연산을 하게 된다."
   ]
  },
  {
   "cell_type": "code",
   "execution_count": 50,
   "id": "e9fdbf4a",
   "metadata": {},
   "outputs": [
    {
     "data": {
      "text/plain": [
       "대구     1004\n",
       "부산     1184\n",
       "서울     -628\n",
       "인천     9106\n",
       "제주도    1116\n",
       "dtype: int32"
      ]
     },
     "execution_count": 50,
     "metadata": {},
     "output_type": "execute_result"
    }
   ],
   "source": [
    "s_sub.astype(int)"
   ]
  },
  {
   "cell_type": "code",
   "execution_count": 51,
   "id": "a8e13d0b",
   "metadata": {},
   "outputs": [],
   "source": [
    "s_sub2 = s21.sub(s20)"
   ]
  },
  {
   "cell_type": "code",
   "execution_count": 52,
   "id": "3a2b087c",
   "metadata": {},
   "outputs": [
    {
     "data": {
      "text/plain": [
       "대구     1004.0\n",
       "부산     1184.0\n",
       "서울        0.0\n",
       "인천     9106.0\n",
       "제주도       0.0\n",
       "dtype: float64"
      ]
     },
     "execution_count": 52,
     "metadata": {},
     "output_type": "execute_result"
    }
   ],
   "source": [
    "s_sub2.fillna(0) "
   ]
  },
  {
   "cell_type": "markdown",
   "id": "8056f637",
   "metadata": {},
   "source": [
    "* 0 값을 넌 값으로 채우는 방법을 한다."
   ]
  },
  {
   "cell_type": "code",
   "execution_count": 53,
   "id": "8033815c",
   "metadata": {},
   "outputs": [
    {
     "data": {
      "text/plain": [
       "대구      True\n",
       "부산      True\n",
       "서울     False\n",
       "인천      True\n",
       "제주도    False\n",
       "dtype: bool"
      ]
     },
     "execution_count": 53,
     "metadata": {},
     "output_type": "execute_result"
    }
   ],
   "source": [
    "s_sub2.notnull() "
   ]
  },
  {
   "cell_type": "markdown",
   "id": "94acde16",
   "metadata": {},
   "source": [
    "* null인 값을 True로 나오게 되고, null이 아닌 값은 False가 나오게 된다."
   ]
  },
  {
   "cell_type": "code",
   "execution_count": 54,
   "id": "5f6eaded",
   "metadata": {},
   "outputs": [],
   "source": [
    "s21 = pd.Series([1116, 12259, 65119, 16699], index = ['서울', '부산', '인천', '대구'])\n",
    "s20 = pd.Series([628, 11075, 56013, 15695], index = ['서울', '부산', '인천', '대구'])"
   ]
  },
  {
   "cell_type": "code",
   "execution_count": 57,
   "id": "a4ea3395",
   "metadata": {},
   "outputs": [],
   "source": [
    "rs = ((s21 - s20) / s20 * 100).round(2) # 인덱스 기반 연산이 일어나고 있다."
   ]
  },
  {
   "cell_type": "code",
   "execution_count": 58,
   "id": "06a6cb85",
   "metadata": {},
   "outputs": [
    {
     "data": {
      "text/plain": [
       "서울    77.71\n",
       "부산    10.69\n",
       "인천    16.26\n",
       "대구     6.40\n",
       "dtype: float64"
      ]
     },
     "execution_count": 58,
     "metadata": {},
     "output_type": "execute_result"
    }
   ],
   "source": [
    "rs"
   ]
  },
  {
   "cell_type": "code",
   "execution_count": 59,
   "id": "239d7f71",
   "metadata": {},
   "outputs": [
    {
     "data": {
      "text/plain": [
       "77.71"
      ]
     },
     "execution_count": 59,
     "metadata": {},
     "output_type": "execute_result"
    }
   ],
   "source": [
    "rs['서울']"
   ]
  },
  {
   "cell_type": "code",
   "execution_count": 60,
   "id": "09291a0c",
   "metadata": {},
   "outputs": [],
   "source": [
    "rs['서울'] = 0  # 키값을 사용해서 값을 변경할 수 있다."
   ]
  },
  {
   "cell_type": "code",
   "execution_count": 62,
   "id": "f4421ee4",
   "metadata": {},
   "outputs": [],
   "source": [
    "rs[0] = 123"
   ]
  },
  {
   "cell_type": "markdown",
   "id": "e2cdcc76",
   "metadata": {},
   "source": [
    "#### 데이터 제거"
   ]
  },
  {
   "cell_type": "code",
   "execution_count": 63,
   "id": "70501622",
   "metadata": {},
   "outputs": [],
   "source": [
    "del rs['대구']"
   ]
  },
  {
   "cell_type": "code",
   "execution_count": 65,
   "id": "922c973a",
   "metadata": {},
   "outputs": [],
   "source": [
    "del rs['서울']"
   ]
  },
  {
   "cell_type": "code",
   "execution_count": 66,
   "id": "a54430f3",
   "metadata": {},
   "outputs": [
    {
     "data": {
      "text/plain": [
       "부산    10.69\n",
       "인천    16.26\n",
       "dtype: float64"
      ]
     },
     "execution_count": 66,
     "metadata": {},
     "output_type": "execute_result"
    }
   ],
   "source": [
    "rs # 대구와 서울을 지워주었기 때문에 부산과 인천만 남는 것을 볼 수 있다."
   ]
  },
  {
   "cell_type": "markdown",
   "id": "dd4b7829",
   "metadata": {},
   "source": [
    "#### 데이터를 추가하기"
   ]
  },
  {
   "cell_type": "code",
   "execution_count": 67,
   "id": "5cb19866",
   "metadata": {},
   "outputs": [],
   "source": [
    "rs['서울'] = 77.71"
   ]
  },
  {
   "cell_type": "code",
   "execution_count": 68,
   "id": "3b1415e3",
   "metadata": {},
   "outputs": [
    {
     "data": {
      "text/plain": [
       "부산    10.69\n",
       "인천    16.26\n",
       "서울    77.71\n",
       "dtype: float64"
      ]
     },
     "execution_count": 68,
     "metadata": {},
     "output_type": "execute_result"
    }
   ],
   "source": [
    "rs"
   ]
  },
  {
   "cell_type": "code",
   "execution_count": 69,
   "id": "fc315db1",
   "metadata": {},
   "outputs": [],
   "source": [
    "rs['대구'] = 6.40"
   ]
  },
  {
   "cell_type": "markdown",
   "id": "a6de7804",
   "metadata": {},
   "source": [
    "#### 랜덤"
   ]
  },
  {
   "cell_type": "code",
   "execution_count": 70,
   "id": "5446c21b",
   "metadata": {},
   "outputs": [],
   "source": [
    "import random"
   ]
  },
  {
   "cell_type": "code",
   "execution_count": 79,
   "id": "829ee2f6",
   "metadata": {
    "scrolled": true
   },
   "outputs": [],
   "source": [
    "key100 = random.sample(list(range(1000)), 100)\n",
    "# pd.Series() # 크기가 100\n",
    "# 키값 100 밸류값 100\n",
    "key80 = random.sample(list(range(1000)), 80)\n",
    "value100 = random.sample(list(range(1000)), 100)\n",
    "value80 = random.sample(list(range(1000)), 80)\n",
    "s100 = pd.Series(value100, index = key100)\n",
    "s80 = pd.Series(value80, index = key80)"
   ]
  },
  {
   "cell_type": "code",
   "execution_count": 80,
   "id": "f69fb256",
   "metadata": {},
   "outputs": [],
   "source": [
    "s_100_80_sub = s100 - s80"
   ]
  },
  {
   "cell_type": "code",
   "execution_count": 87,
   "id": "d128708a",
   "metadata": {},
   "outputs": [
    {
     "data": {
      "text/plain": [
       "8    NaN\n",
       "15   NaN\n",
       "18   NaN\n",
       "21   NaN\n",
       "29   NaN\n",
       "dtype: float64"
      ]
     },
     "execution_count": 87,
     "metadata": {},
     "output_type": "execute_result"
    }
   ],
   "source": [
    "s_100_80_sub.head()"
   ]
  },
  {
   "cell_type": "code",
   "execution_count": 82,
   "id": "1980ea96",
   "metadata": {},
   "outputs": [
    {
     "data": {
      "text/plain": [
       "8      False\n",
       "15     False\n",
       "18     False\n",
       "21     False\n",
       "29     False\n",
       "       ...  \n",
       "952    False\n",
       "955    False\n",
       "956    False\n",
       "962    False\n",
       "982    False\n",
       "Length: 167, dtype: bool"
      ]
     },
     "execution_count": 82,
     "metadata": {},
     "output_type": "execute_result"
    }
   ],
   "source": [
    "s_100_80_sub.notnull()"
   ]
  },
  {
   "cell_type": "code",
   "execution_count": 83,
   "id": "7c23d546",
   "metadata": {
    "scrolled": false
   },
   "outputs": [
    {
     "name": "stdout",
     "output_type": "stream",
     "text": [
      "135 True\n",
      "168 True\n",
      "193 True\n",
      "220 True\n",
      "242 True\n",
      "436 True\n",
      "471 True\n",
      "673 True\n",
      "693 True\n",
      "711 True\n",
      "775 True\n",
      "832 True\n",
      "939 True\n"
     ]
    }
   ],
   "source": [
    "for k, v in s_100_80_sub.notnull().items():\n",
    "    if v:\n",
    "        print(k, v)"
   ]
  },
  {
   "cell_type": "code",
   "execution_count": 85,
   "id": "e46b1370",
   "metadata": {},
   "outputs": [
    {
     "data": {
      "text/plain": [
       "193.0"
      ]
     },
     "execution_count": 85,
     "metadata": {},
     "output_type": "execute_result"
    }
   ],
   "source": [
    "s_100_80_sub[135]"
   ]
  },
  {
   "cell_type": "code",
   "execution_count": 86,
   "id": "b0c83534",
   "metadata": {},
   "outputs": [
    {
     "data": {
      "text/plain": [
       "120"
      ]
     },
     "execution_count": 86,
     "metadata": {},
     "output_type": "execute_result"
    }
   ],
   "source": [
    "s80[135]"
   ]
  },
  {
   "cell_type": "markdown",
   "id": "7670bf7d",
   "metadata": {},
   "source": [
    "## 2. 데이터 프레임"
   ]
  },
  {
   "cell_type": "code",
   "execution_count": 88,
   "id": "9e44a477",
   "metadata": {},
   "outputs": [],
   "source": [
    "import pandas as pd"
   ]
  },
  {
   "cell_type": "code",
   "execution_count": 107,
   "id": "7c1a949c",
   "metadata": {},
   "outputs": [
    {
     "data": {
      "text/html": [
       "<div>\n",
       "<style scoped>\n",
       "    .dataframe tbody tr th:only-of-type {\n",
       "        vertical-align: middle;\n",
       "    }\n",
       "\n",
       "    .dataframe tbody tr th {\n",
       "        vertical-align: top;\n",
       "    }\n",
       "\n",
       "    .dataframe thead th {\n",
       "        text-align: right;\n",
       "    }\n",
       "</style>\n",
       "<table border=\"1\" class=\"dataframe\">\n",
       "  <thead>\n",
       "    <tr style=\"text-align: right;\">\n",
       "      <th></th>\n",
       "      <th>농지면적순위</th>\n",
       "      <th>2021</th>\n",
       "      <th>2020</th>\n",
       "      <th>2019</th>\n",
       "      <th>2018</th>\n",
       "    </tr>\n",
       "  </thead>\n",
       "  <tbody>\n",
       "    <tr>\n",
       "      <th>서울</th>\n",
       "      <td>4</td>\n",
       "      <td>1116</td>\n",
       "      <td>628</td>\n",
       "      <td>678</td>\n",
       "      <td>712</td>\n",
       "    </tr>\n",
       "    <tr>\n",
       "      <th>부산</th>\n",
       "      <td>3</td>\n",
       "      <td>12259</td>\n",
       "      <td>11075</td>\n",
       "      <td>12700</td>\n",
       "      <td>13597</td>\n",
       "    </tr>\n",
       "    <tr>\n",
       "      <th>대구</th>\n",
       "      <td>2</td>\n",
       "      <td>16699</td>\n",
       "      <td>15695</td>\n",
       "      <td>15148</td>\n",
       "      <td>16052</td>\n",
       "    </tr>\n",
       "    <tr>\n",
       "      <th>인천</th>\n",
       "      <td>1</td>\n",
       "      <td>65119</td>\n",
       "      <td>56013</td>\n",
       "      <td>55443</td>\n",
       "      <td>56024</td>\n",
       "    </tr>\n",
       "  </tbody>\n",
       "</table>\n",
       "</div>"
      ],
      "text/plain": [
       "    농지면적순위   2021   2020   2019   2018\n",
       "서울       4   1116    628    678    712\n",
       "부산       3  12259  11075  12700  13597\n",
       "대구       2  16699  15695  15148  16052\n",
       "인천       1  65119  56013  55443  56024"
      ]
     },
     "execution_count": 107,
     "metadata": {},
     "output_type": "execute_result"
    }
   ],
   "source": [
    "data = {\n",
    "'2021' : [1116, 12259, 16699, 65119],\n",
    "'2020' : [628, 11075, 15695, 56013],\n",
    "'2019' : [678,12700,15148,55443],\n",
    "'2018' : [712, 13597, 16052, 56024],\n",
    "'농지면적순위' : [4, 3, 2, 1]\n",
    "}\n",
    "columns = ['농지면적순위', '2021', '2020', '2019', '2018']\n",
    "index = ['서울','부산','대구','인천']\n",
    "df = pd.DataFrame(data, index = index, columns = columns)\n",
    "df"
   ]
  },
  {
   "cell_type": "markdown",
   "id": "a5306ac9",
   "metadata": {},
   "source": [
    "* columns에 써주는 것과 키값에 써주는게 맞아 야 NaN값이 안나오게 된다."
   ]
  },
  {
   "cell_type": "code",
   "execution_count": 93,
   "id": "99c87b13",
   "metadata": {},
   "outputs": [
    {
     "data": {
      "text/plain": [
       "Index(['면적순위', '2021', '2020', '2019', '2018'], dtype='object')"
      ]
     },
     "execution_count": 93,
     "metadata": {},
     "output_type": "execute_result"
    }
   ],
   "source": [
    "df.columns"
   ]
  },
  {
   "cell_type": "markdown",
   "id": "1a77165b",
   "metadata": {},
   "source": [
    "* 스트링은 다 object로 되어있다."
   ]
  },
  {
   "cell_type": "code",
   "execution_count": 95,
   "id": "c3a1b489",
   "metadata": {
    "collapsed": true
   },
   "outputs": [
    {
     "data": {
      "text/plain": [
       "Index(['서울', '부산', '대구', '인천'], dtype='object')"
      ]
     },
     "execution_count": 95,
     "metadata": {},
     "output_type": "execute_result"
    }
   ],
   "source": [
    "df.index"
   ]
  },
  {
   "cell_type": "code",
   "execution_count": 94,
   "id": "83eba6b4",
   "metadata": {
    "collapsed": true
   },
   "outputs": [
    {
     "data": {
      "text/plain": [
       "array([[    4,  1116,   628,   678,   712],\n",
       "       [    3, 12259, 11075, 12700, 13597],\n",
       "       [    2, 16699, 15695, 15148, 16052],\n",
       "       [    1, 65119, 56013, 55443, 56024]], dtype=int64)"
      ]
     },
     "execution_count": 94,
     "metadata": {},
     "output_type": "execute_result"
    }
   ],
   "source": [
    "df.values"
   ]
  },
  {
   "cell_type": "code",
   "execution_count": 97,
   "id": "f06bd420",
   "metadata": {},
   "outputs": [
    {
     "name": "stdout",
     "output_type": "stream",
     "text": [
      "<class 'pandas.core.frame.DataFrame'>\n",
      "Index: 4 entries, 서울 to 인천\n",
      "Data columns (total 5 columns):\n",
      " #   Column  Non-Null Count  Dtype\n",
      "---  ------  --------------  -----\n",
      " 0   면적순위    4 non-null      int64\n",
      " 1   2021    4 non-null      int64\n",
      " 2   2020    4 non-null      int64\n",
      " 3   2019    4 non-null      int64\n",
      " 4   2018    4 non-null      int64\n",
      "dtypes: int64(5)\n",
      "memory usage: 192.0+ bytes\n"
     ]
    }
   ],
   "source": [
    "df.info()"
   ]
  },
  {
   "cell_type": "code",
   "execution_count": 99,
   "id": "6aa98c97",
   "metadata": {},
   "outputs": [],
   "source": [
    "df.index.name = '지역'"
   ]
  },
  {
   "cell_type": "code",
   "execution_count": 100,
   "id": "f33866e9",
   "metadata": {},
   "outputs": [
    {
     "data": {
      "text/html": [
       "<div>\n",
       "<style scoped>\n",
       "    .dataframe tbody tr th:only-of-type {\n",
       "        vertical-align: middle;\n",
       "    }\n",
       "\n",
       "    .dataframe tbody tr th {\n",
       "        vertical-align: top;\n",
       "    }\n",
       "\n",
       "    .dataframe thead th {\n",
       "        text-align: right;\n",
       "    }\n",
       "</style>\n",
       "<table border=\"1\" class=\"dataframe\">\n",
       "  <thead>\n",
       "    <tr style=\"text-align: right;\">\n",
       "      <th></th>\n",
       "      <th>면적순위</th>\n",
       "      <th>2021</th>\n",
       "      <th>2020</th>\n",
       "      <th>2019</th>\n",
       "      <th>2018</th>\n",
       "    </tr>\n",
       "    <tr>\n",
       "      <th>지역</th>\n",
       "      <th></th>\n",
       "      <th></th>\n",
       "      <th></th>\n",
       "      <th></th>\n",
       "      <th></th>\n",
       "    </tr>\n",
       "  </thead>\n",
       "  <tbody>\n",
       "    <tr>\n",
       "      <th>서울</th>\n",
       "      <td>4</td>\n",
       "      <td>1116</td>\n",
       "      <td>628</td>\n",
       "      <td>678</td>\n",
       "      <td>712</td>\n",
       "    </tr>\n",
       "    <tr>\n",
       "      <th>부산</th>\n",
       "      <td>3</td>\n",
       "      <td>12259</td>\n",
       "      <td>11075</td>\n",
       "      <td>12700</td>\n",
       "      <td>13597</td>\n",
       "    </tr>\n",
       "    <tr>\n",
       "      <th>대구</th>\n",
       "      <td>2</td>\n",
       "      <td>16699</td>\n",
       "      <td>15695</td>\n",
       "      <td>15148</td>\n",
       "      <td>16052</td>\n",
       "    </tr>\n",
       "    <tr>\n",
       "      <th>인천</th>\n",
       "      <td>1</td>\n",
       "      <td>65119</td>\n",
       "      <td>56013</td>\n",
       "      <td>55443</td>\n",
       "      <td>56024</td>\n",
       "    </tr>\n",
       "  </tbody>\n",
       "</table>\n",
       "</div>"
      ],
      "text/plain": [
       "    면적순위   2021   2020   2019   2018\n",
       "지역                                  \n",
       "서울     4   1116    628    678    712\n",
       "부산     3  12259  11075  12700  13597\n",
       "대구     2  16699  15695  15148  16052\n",
       "인천     1  65119  56013  55443  56024"
      ]
     },
     "execution_count": 100,
     "metadata": {},
     "output_type": "execute_result"
    }
   ],
   "source": [
    "df"
   ]
  },
  {
   "cell_type": "code",
   "execution_count": 101,
   "id": "d526014c",
   "metadata": {},
   "outputs": [],
   "source": [
    "df.columns.name = '특성'"
   ]
  },
  {
   "cell_type": "code",
   "execution_count": 102,
   "id": "e3a61bd4",
   "metadata": {},
   "outputs": [
    {
     "data": {
      "text/html": [
       "<div>\n",
       "<style scoped>\n",
       "    .dataframe tbody tr th:only-of-type {\n",
       "        vertical-align: middle;\n",
       "    }\n",
       "\n",
       "    .dataframe tbody tr th {\n",
       "        vertical-align: top;\n",
       "    }\n",
       "\n",
       "    .dataframe thead th {\n",
       "        text-align: right;\n",
       "    }\n",
       "</style>\n",
       "<table border=\"1\" class=\"dataframe\">\n",
       "  <thead>\n",
       "    <tr style=\"text-align: right;\">\n",
       "      <th>특성</th>\n",
       "      <th>면적순위</th>\n",
       "      <th>2021</th>\n",
       "      <th>2020</th>\n",
       "      <th>2019</th>\n",
       "      <th>2018</th>\n",
       "    </tr>\n",
       "    <tr>\n",
       "      <th>지역</th>\n",
       "      <th></th>\n",
       "      <th></th>\n",
       "      <th></th>\n",
       "      <th></th>\n",
       "      <th></th>\n",
       "    </tr>\n",
       "  </thead>\n",
       "  <tbody>\n",
       "    <tr>\n",
       "      <th>서울</th>\n",
       "      <td>4</td>\n",
       "      <td>1116</td>\n",
       "      <td>628</td>\n",
       "      <td>678</td>\n",
       "      <td>712</td>\n",
       "    </tr>\n",
       "    <tr>\n",
       "      <th>부산</th>\n",
       "      <td>3</td>\n",
       "      <td>12259</td>\n",
       "      <td>11075</td>\n",
       "      <td>12700</td>\n",
       "      <td>13597</td>\n",
       "    </tr>\n",
       "    <tr>\n",
       "      <th>대구</th>\n",
       "      <td>2</td>\n",
       "      <td>16699</td>\n",
       "      <td>15695</td>\n",
       "      <td>15148</td>\n",
       "      <td>16052</td>\n",
       "    </tr>\n",
       "    <tr>\n",
       "      <th>인천</th>\n",
       "      <td>1</td>\n",
       "      <td>65119</td>\n",
       "      <td>56013</td>\n",
       "      <td>55443</td>\n",
       "      <td>56024</td>\n",
       "    </tr>\n",
       "  </tbody>\n",
       "</table>\n",
       "</div>"
      ],
      "text/plain": [
       "특성  면적순위   2021   2020   2019   2018\n",
       "지역                                  \n",
       "서울     4   1116    628    678    712\n",
       "부산     3  12259  11075  12700  13597\n",
       "대구     2  16699  15695  15148  16052\n",
       "인천     1  65119  56013  55443  56024"
      ]
     },
     "execution_count": 102,
     "metadata": {},
     "output_type": "execute_result"
    }
   ],
   "source": [
    "df"
   ]
  },
  {
   "cell_type": "markdown",
   "id": "7cc148c9",
   "metadata": {},
   "source": [
    "#### 시리즈는 NaN값이 있으면 자동으로 float로 형 변환이 된다."
   ]
  },
  {
   "cell_type": "code",
   "execution_count": 103,
   "id": "db78f894",
   "metadata": {},
   "outputs": [
    {
     "data": {
      "text/plain": [
       "0    1.0\n",
       "1    2.0\n",
       "2    3.0\n",
       "3    4.0\n",
       "4    NaN\n",
       "dtype: float64"
      ]
     },
     "execution_count": 103,
     "metadata": {},
     "output_type": "execute_result"
    }
   ],
   "source": [
    "pd.Series([1, 2, 3, 4, None]) # 시리즈는 넌값이 있으면 자동으로 float64로 형 변환이 일어나게 된다."
   ]
  },
  {
   "cell_type": "code",
   "execution_count": 109,
   "id": "82bfabf0",
   "metadata": {},
   "outputs": [],
   "source": [
    "df['2018-2021 변화율'] = ((df['2021'] - df['2018']) / df['2018'] * 100)"
   ]
  },
  {
   "cell_type": "code",
   "execution_count": 110,
   "id": "9e7ab4f5",
   "metadata": {},
   "outputs": [
    {
     "data": {
      "text/html": [
       "<div>\n",
       "<style scoped>\n",
       "    .dataframe tbody tr th:only-of-type {\n",
       "        vertical-align: middle;\n",
       "    }\n",
       "\n",
       "    .dataframe tbody tr th {\n",
       "        vertical-align: top;\n",
       "    }\n",
       "\n",
       "    .dataframe thead th {\n",
       "        text-align: right;\n",
       "    }\n",
       "</style>\n",
       "<table border=\"1\" class=\"dataframe\">\n",
       "  <thead>\n",
       "    <tr style=\"text-align: right;\">\n",
       "      <th></th>\n",
       "      <th>농지면적순위</th>\n",
       "      <th>2021</th>\n",
       "      <th>2020</th>\n",
       "      <th>2019</th>\n",
       "      <th>2018</th>\n",
       "      <th>2018-2021 변화율</th>\n",
       "    </tr>\n",
       "  </thead>\n",
       "  <tbody>\n",
       "    <tr>\n",
       "      <th>서울</th>\n",
       "      <td>4</td>\n",
       "      <td>1116</td>\n",
       "      <td>628</td>\n",
       "      <td>678</td>\n",
       "      <td>712</td>\n",
       "      <td>56.741573</td>\n",
       "    </tr>\n",
       "    <tr>\n",
       "      <th>부산</th>\n",
       "      <td>3</td>\n",
       "      <td>12259</td>\n",
       "      <td>11075</td>\n",
       "      <td>12700</td>\n",
       "      <td>13597</td>\n",
       "      <td>-9.840406</td>\n",
       "    </tr>\n",
       "    <tr>\n",
       "      <th>대구</th>\n",
       "      <td>2</td>\n",
       "      <td>16699</td>\n",
       "      <td>15695</td>\n",
       "      <td>15148</td>\n",
       "      <td>16052</td>\n",
       "      <td>4.030650</td>\n",
       "    </tr>\n",
       "    <tr>\n",
       "      <th>인천</th>\n",
       "      <td>1</td>\n",
       "      <td>65119</td>\n",
       "      <td>56013</td>\n",
       "      <td>55443</td>\n",
       "      <td>56024</td>\n",
       "      <td>16.234114</td>\n",
       "    </tr>\n",
       "  </tbody>\n",
       "</table>\n",
       "</div>"
      ],
      "text/plain": [
       "    농지면적순위   2021   2020   2019   2018  2018-2021 변화율\n",
       "서울       4   1116    628    678    712      56.741573\n",
       "부산       3  12259  11075  12700  13597      -9.840406\n",
       "대구       2  16699  15695  15148  16052       4.030650\n",
       "인천       1  65119  56013  55443  56024      16.234114"
      ]
     },
     "execution_count": 110,
     "metadata": {},
     "output_type": "execute_result"
    }
   ],
   "source": [
    "df"
   ]
  },
  {
   "cell_type": "markdown",
   "id": "17eb59d1",
   "metadata": {},
   "source": [
    "* 2021년과 2018년간에 얼마나 증가를 하였는지를 퍼센테이지로 만들었다."
   ]
  },
  {
   "cell_type": "code",
   "execution_count": 117,
   "id": "c905a59c",
   "metadata": {},
   "outputs": [
    {
     "data": {
      "text/html": [
       "<div>\n",
       "<style scoped>\n",
       "    .dataframe tbody tr th:only-of-type {\n",
       "        vertical-align: middle;\n",
       "    }\n",
       "\n",
       "    .dataframe tbody tr th {\n",
       "        vertical-align: top;\n",
       "    }\n",
       "\n",
       "    .dataframe thead th {\n",
       "        text-align: right;\n",
       "    }\n",
       "</style>\n",
       "<table border=\"1\" class=\"dataframe\">\n",
       "  <thead>\n",
       "    <tr style=\"text-align: right;\">\n",
       "      <th></th>\n",
       "      <th>2018</th>\n",
       "      <th>2019</th>\n",
       "      <th>2020</th>\n",
       "      <th>2021</th>\n",
       "      <th>농지면적순위</th>\n",
       "      <th>2018-2021 변화율</th>\n",
       "    </tr>\n",
       "  </thead>\n",
       "  <tbody>\n",
       "    <tr>\n",
       "      <th>서울</th>\n",
       "      <td>712</td>\n",
       "      <td>678</td>\n",
       "      <td>628</td>\n",
       "      <td>1116</td>\n",
       "      <td>4</td>\n",
       "      <td>56.741573</td>\n",
       "    </tr>\n",
       "    <tr>\n",
       "      <th>부산</th>\n",
       "      <td>13597</td>\n",
       "      <td>12700</td>\n",
       "      <td>11075</td>\n",
       "      <td>12259</td>\n",
       "      <td>3</td>\n",
       "      <td>-9.840406</td>\n",
       "    </tr>\n",
       "    <tr>\n",
       "      <th>대구</th>\n",
       "      <td>16052</td>\n",
       "      <td>15148</td>\n",
       "      <td>15695</td>\n",
       "      <td>16699</td>\n",
       "      <td>2</td>\n",
       "      <td>4.030650</td>\n",
       "    </tr>\n",
       "    <tr>\n",
       "      <th>인천</th>\n",
       "      <td>56024</td>\n",
       "      <td>55443</td>\n",
       "      <td>56013</td>\n",
       "      <td>65119</td>\n",
       "      <td>1</td>\n",
       "      <td>16.234114</td>\n",
       "    </tr>\n",
       "  </tbody>\n",
       "</table>\n",
       "</div>"
      ],
      "text/plain": [
       "     2018   2019   2020   2021  농지면적순위  2018-2021 변화율\n",
       "서울    712    678    628   1116       4      56.741573\n",
       "부산  13597  12700  11075  12259       3      -9.840406\n",
       "대구  16052  15148  15695  16699       2       4.030650\n",
       "인천  56024  55443  56013  65119       1      16.234114"
      ]
     },
     "execution_count": 117,
     "metadata": {},
     "output_type": "execute_result"
    }
   ],
   "source": [
    "df[['2018', '2019', '2020', '2021', '농지면적순위', '2018-2021 변화율']]"
   ]
  },
  {
   "cell_type": "markdown",
   "id": "925618e0",
   "metadata": {},
   "source": [
    "* 순서를 바꿀 때는 바꾸고 싶은 순서대로 적어주면 된다."
   ]
  },
  {
   "cell_type": "code",
   "execution_count": 131,
   "id": "52abf9d6",
   "metadata": {},
   "outputs": [
    {
     "data": {
      "text/html": [
       "<div>\n",
       "<style scoped>\n",
       "    .dataframe tbody tr th:only-of-type {\n",
       "        vertical-align: middle;\n",
       "    }\n",
       "\n",
       "    .dataframe tbody tr th {\n",
       "        vertical-align: top;\n",
       "    }\n",
       "\n",
       "    .dataframe thead th {\n",
       "        text-align: right;\n",
       "    }\n",
       "</style>\n",
       "<table border=\"1\" class=\"dataframe\">\n",
       "  <thead>\n",
       "    <tr style=\"text-align: right;\">\n",
       "      <th></th>\n",
       "      <th>서울</th>\n",
       "      <th>부산</th>\n",
       "      <th>대구</th>\n",
       "      <th>인천</th>\n",
       "    </tr>\n",
       "  </thead>\n",
       "  <tbody>\n",
       "    <tr>\n",
       "      <th>농지면적순위</th>\n",
       "      <td>4.000000</td>\n",
       "      <td>3.000000</td>\n",
       "      <td>2.00000</td>\n",
       "      <td>1.000000</td>\n",
       "    </tr>\n",
       "    <tr>\n",
       "      <th>2021</th>\n",
       "      <td>1116.000000</td>\n",
       "      <td>12259.000000</td>\n",
       "      <td>16699.00000</td>\n",
       "      <td>65119.000000</td>\n",
       "    </tr>\n",
       "    <tr>\n",
       "      <th>2020</th>\n",
       "      <td>628.000000</td>\n",
       "      <td>11075.000000</td>\n",
       "      <td>15695.00000</td>\n",
       "      <td>56013.000000</td>\n",
       "    </tr>\n",
       "    <tr>\n",
       "      <th>2019</th>\n",
       "      <td>678.000000</td>\n",
       "      <td>12700.000000</td>\n",
       "      <td>15148.00000</td>\n",
       "      <td>55443.000000</td>\n",
       "    </tr>\n",
       "    <tr>\n",
       "      <th>2018</th>\n",
       "      <td>712.000000</td>\n",
       "      <td>13597.000000</td>\n",
       "      <td>16052.00000</td>\n",
       "      <td>56024.000000</td>\n",
       "    </tr>\n",
       "    <tr>\n",
       "      <th>2018-2021 변화율</th>\n",
       "      <td>56.741573</td>\n",
       "      <td>-9.840406</td>\n",
       "      <td>4.03065</td>\n",
       "      <td>16.234114</td>\n",
       "    </tr>\n",
       "  </tbody>\n",
       "</table>\n",
       "</div>"
      ],
      "text/plain": [
       "                        서울            부산           대구            인천\n",
       "농지면적순위            4.000000      3.000000      2.00000      1.000000\n",
       "2021           1116.000000  12259.000000  16699.00000  65119.000000\n",
       "2020            628.000000  11075.000000  15695.00000  56013.000000\n",
       "2019            678.000000  12700.000000  15148.00000  55443.000000\n",
       "2018            712.000000  13597.000000  16052.00000  56024.000000\n",
       "2018-2021 변화율    56.741573     -9.840406      4.03065     16.234114"
      ]
     },
     "execution_count": 131,
     "metadata": {},
     "output_type": "execute_result"
    }
   ],
   "source": [
    "df['2018-2021 변화율'].astype(int)\n",
    "df.T"
   ]
  },
  {
   "cell_type": "code",
   "execution_count": 121,
   "id": "20ee29a9",
   "metadata": {},
   "outputs": [
    {
     "data": {
      "text/html": [
       "<div>\n",
       "<style scoped>\n",
       "    .dataframe tbody tr th:only-of-type {\n",
       "        vertical-align: middle;\n",
       "    }\n",
       "\n",
       "    .dataframe tbody tr th {\n",
       "        vertical-align: top;\n",
       "    }\n",
       "\n",
       "    .dataframe thead th {\n",
       "        text-align: right;\n",
       "    }\n",
       "</style>\n",
       "<table border=\"1\" class=\"dataframe\">\n",
       "  <thead>\n",
       "    <tr style=\"text-align: right;\">\n",
       "      <th></th>\n",
       "      <th>서울</th>\n",
       "      <th>부산</th>\n",
       "      <th>대구</th>\n",
       "      <th>인천</th>\n",
       "    </tr>\n",
       "  </thead>\n",
       "  <tbody>\n",
       "    <tr>\n",
       "      <th>농지면적순위</th>\n",
       "      <td>4.000000</td>\n",
       "      <td>3.000000</td>\n",
       "      <td>2.00000</td>\n",
       "      <td>1.000000</td>\n",
       "    </tr>\n",
       "    <tr>\n",
       "      <th>2021</th>\n",
       "      <td>1116.000000</td>\n",
       "      <td>12259.000000</td>\n",
       "      <td>16699.00000</td>\n",
       "      <td>65119.000000</td>\n",
       "    </tr>\n",
       "    <tr>\n",
       "      <th>2020</th>\n",
       "      <td>628.000000</td>\n",
       "      <td>11075.000000</td>\n",
       "      <td>15695.00000</td>\n",
       "      <td>56013.000000</td>\n",
       "    </tr>\n",
       "    <tr>\n",
       "      <th>2019</th>\n",
       "      <td>678.000000</td>\n",
       "      <td>12700.000000</td>\n",
       "      <td>15148.00000</td>\n",
       "      <td>55443.000000</td>\n",
       "    </tr>\n",
       "    <tr>\n",
       "      <th>2018</th>\n",
       "      <td>712.000000</td>\n",
       "      <td>13597.000000</td>\n",
       "      <td>16052.00000</td>\n",
       "      <td>56024.000000</td>\n",
       "    </tr>\n",
       "    <tr>\n",
       "      <th>2018-2021 변화율</th>\n",
       "      <td>56.741573</td>\n",
       "      <td>-9.840406</td>\n",
       "      <td>4.03065</td>\n",
       "      <td>16.234114</td>\n",
       "    </tr>\n",
       "  </tbody>\n",
       "</table>\n",
       "</div>"
      ],
      "text/plain": [
       "                        서울            부산           대구            인천\n",
       "농지면적순위            4.000000      3.000000      2.00000      1.000000\n",
       "2021           1116.000000  12259.000000  16699.00000  65119.000000\n",
       "2020            628.000000  11075.000000  15695.00000  56013.000000\n",
       "2019            678.000000  12700.000000  15148.00000  55443.000000\n",
       "2018            712.000000  13597.000000  16052.00000  56024.000000\n",
       "2018-2021 변화율    56.741573     -9.840406      4.03065     16.234114"
      ]
     },
     "execution_count": 121,
     "metadata": {},
     "output_type": "execute_result"
    }
   ],
   "source": [
    "df.T"
   ]
  },
  {
   "cell_type": "code",
   "execution_count": 120,
   "id": "5622ee8b",
   "metadata": {},
   "outputs": [
    {
     "data": {
      "text/plain": [
       "서울      712\n",
       "부산    13597\n",
       "대구    16052\n",
       "인천    56024\n",
       "Name: 2018, dtype: int64"
      ]
     },
     "execution_count": 120,
     "metadata": {},
     "output_type": "execute_result"
    }
   ],
   "source": [
    "df['2018'] # 시리즈 형식으로 출력을 해 줄 수 있다."
   ]
  },
  {
   "cell_type": "code",
   "execution_count": 119,
   "id": "eee5ede2",
   "metadata": {},
   "outputs": [
    {
     "data": {
      "text/html": [
       "<div>\n",
       "<style scoped>\n",
       "    .dataframe tbody tr th:only-of-type {\n",
       "        vertical-align: middle;\n",
       "    }\n",
       "\n",
       "    .dataframe tbody tr th {\n",
       "        vertical-align: top;\n",
       "    }\n",
       "\n",
       "    .dataframe thead th {\n",
       "        text-align: right;\n",
       "    }\n",
       "</style>\n",
       "<table border=\"1\" class=\"dataframe\">\n",
       "  <thead>\n",
       "    <tr style=\"text-align: right;\">\n",
       "      <th></th>\n",
       "      <th>2018</th>\n",
       "    </tr>\n",
       "  </thead>\n",
       "  <tbody>\n",
       "    <tr>\n",
       "      <th>서울</th>\n",
       "      <td>712</td>\n",
       "    </tr>\n",
       "    <tr>\n",
       "      <th>부산</th>\n",
       "      <td>13597</td>\n",
       "    </tr>\n",
       "    <tr>\n",
       "      <th>대구</th>\n",
       "      <td>16052</td>\n",
       "    </tr>\n",
       "    <tr>\n",
       "      <th>인천</th>\n",
       "      <td>56024</td>\n",
       "    </tr>\n",
       "  </tbody>\n",
       "</table>\n",
       "</div>"
      ],
      "text/plain": [
       "     2018\n",
       "서울    712\n",
       "부산  13597\n",
       "대구  16052\n",
       "인천  56024"
      ]
     },
     "execution_count": 119,
     "metadata": {},
     "output_type": "execute_result"
    }
   ],
   "source": [
    "df[['2018']] # 데이터 프레임 형식으로 출력을 해 줄 수 있다."
   ]
  },
  {
   "cell_type": "code",
   "execution_count": 122,
   "id": "7be5680b",
   "metadata": {},
   "outputs": [
    {
     "data": {
      "text/plain": [
       "712"
      ]
     },
     "execution_count": 122,
     "metadata": {},
     "output_type": "execute_result"
    }
   ],
   "source": [
    "df['2018']['서울']"
   ]
  },
  {
   "cell_type": "code",
   "execution_count": 123,
   "id": "d757de8f",
   "metadata": {},
   "outputs": [
    {
     "data": {
      "text/plain": [
       "서울      712\n",
       "부산    13597\n",
       "대구    16052\n",
       "인천    56024\n",
       "Name: 2018, dtype: int64"
      ]
     },
     "execution_count": 123,
     "metadata": {},
     "output_type": "execute_result"
    }
   ],
   "source": [
    "df['2018']"
   ]
  },
  {
   "cell_type": "code",
   "execution_count": 124,
   "id": "8581c4b7",
   "metadata": {},
   "outputs": [],
   "source": [
    "temp = pd.Series(['a', 'b', 'c', 'd', 'e'])"
   ]
  },
  {
   "cell_type": "code",
   "execution_count": 125,
   "id": "a7c1ac51",
   "metadata": {},
   "outputs": [
    {
     "data": {
      "text/plain": [
       "'e'"
      ]
     },
     "execution_count": 125,
     "metadata": {},
     "output_type": "execute_result"
    }
   ],
   "source": [
    "temp[4]"
   ]
  },
  {
   "cell_type": "code",
   "execution_count": 128,
   "id": "361718e3",
   "metadata": {},
   "outputs": [
    {
     "name": "stdout",
     "output_type": "stream",
     "text": [
      "1116\n"
     ]
    }
   ],
   "source": [
    "print(df['2021']['서울'])\n",
    "print(df['2021'][0]) # 이렇게 인덱스로 접근이 가능한 이유는 시리즈로 접근을 했기 때문이다."
   ]
  },
  {
   "cell_type": "markdown",
   "id": "5e6bc318",
   "metadata": {},
   "source": [
    "* 데이터 프레임은 인덱스로 접근하는게 아니라 컬럼으로 접근을 하게된다."
   ]
  },
  {
   "cell_type": "code",
   "execution_count": 132,
   "id": "244f8a60",
   "metadata": {},
   "outputs": [
    {
     "data": {
      "text/html": [
       "<div>\n",
       "<style scoped>\n",
       "    .dataframe tbody tr th:only-of-type {\n",
       "        vertical-align: middle;\n",
       "    }\n",
       "\n",
       "    .dataframe tbody tr th {\n",
       "        vertical-align: top;\n",
       "    }\n",
       "\n",
       "    .dataframe thead th {\n",
       "        text-align: right;\n",
       "    }\n",
       "</style>\n",
       "<table border=\"1\" class=\"dataframe\">\n",
       "  <thead>\n",
       "    <tr style=\"text-align: right;\">\n",
       "      <th></th>\n",
       "      <th>농지면적순위</th>\n",
       "      <th>2021</th>\n",
       "      <th>2020</th>\n",
       "      <th>2019</th>\n",
       "      <th>2018</th>\n",
       "      <th>2018-2021 변화율</th>\n",
       "    </tr>\n",
       "  </thead>\n",
       "  <tbody>\n",
       "    <tr>\n",
       "      <th>인천</th>\n",
       "      <td>1</td>\n",
       "      <td>65119</td>\n",
       "      <td>56013</td>\n",
       "      <td>55443</td>\n",
       "      <td>56024</td>\n",
       "      <td>16.234114</td>\n",
       "    </tr>\n",
       "    <tr>\n",
       "      <th>대구</th>\n",
       "      <td>2</td>\n",
       "      <td>16699</td>\n",
       "      <td>15695</td>\n",
       "      <td>15148</td>\n",
       "      <td>16052</td>\n",
       "      <td>4.030650</td>\n",
       "    </tr>\n",
       "    <tr>\n",
       "      <th>부산</th>\n",
       "      <td>3</td>\n",
       "      <td>12259</td>\n",
       "      <td>11075</td>\n",
       "      <td>12700</td>\n",
       "      <td>13597</td>\n",
       "      <td>-9.840406</td>\n",
       "    </tr>\n",
       "    <tr>\n",
       "      <th>서울</th>\n",
       "      <td>4</td>\n",
       "      <td>1116</td>\n",
       "      <td>628</td>\n",
       "      <td>678</td>\n",
       "      <td>712</td>\n",
       "      <td>56.741573</td>\n",
       "    </tr>\n",
       "  </tbody>\n",
       "</table>\n",
       "</div>"
      ],
      "text/plain": [
       "    농지면적순위   2021   2020   2019   2018  2018-2021 변화율\n",
       "인천       1  65119  56013  55443  56024      16.234114\n",
       "대구       2  16699  15695  15148  16052       4.030650\n",
       "부산       3  12259  11075  12700  13597      -9.840406\n",
       "서울       4   1116    628    678    712      56.741573"
      ]
     },
     "execution_count": 132,
     "metadata": {},
     "output_type": "execute_result"
    }
   ],
   "source": [
    "df.sort_values(by = '농지면적순위')"
   ]
  },
  {
   "cell_type": "markdown",
   "id": "18c412fa",
   "metadata": {},
   "source": [
    "#### 데이터 프레임에서 인덱스로 접근하는 방법"
   ]
  },
  {
   "cell_type": "code",
   "execution_count": 133,
   "id": "ddd8f282",
   "metadata": {},
   "outputs": [
    {
     "data": {
      "text/plain": [
       "[1, 2]"
      ]
     },
     "execution_count": 133,
     "metadata": {},
     "output_type": "execute_result"
    }
   ],
   "source": [
    "temp_list = [1,2,3,4]\n",
    "temp_list[:2]"
   ]
  },
  {
   "cell_type": "code",
   "execution_count": 142,
   "id": "68c4562f",
   "metadata": {},
   "outputs": [
    {
     "data": {
      "text/html": [
       "<div>\n",
       "<style scoped>\n",
       "    .dataframe tbody tr th:only-of-type {\n",
       "        vertical-align: middle;\n",
       "    }\n",
       "\n",
       "    .dataframe tbody tr th {\n",
       "        vertical-align: top;\n",
       "    }\n",
       "\n",
       "    .dataframe thead th {\n",
       "        text-align: right;\n",
       "    }\n",
       "</style>\n",
       "<table border=\"1\" class=\"dataframe\">\n",
       "  <thead>\n",
       "    <tr style=\"text-align: right;\">\n",
       "      <th></th>\n",
       "      <th>농지면적순위</th>\n",
       "      <th>2021</th>\n",
       "      <th>2020</th>\n",
       "      <th>2019</th>\n",
       "      <th>2018</th>\n",
       "      <th>2018-2021 변화율</th>\n",
       "    </tr>\n",
       "  </thead>\n",
       "  <tbody>\n",
       "    <tr>\n",
       "      <th>서울</th>\n",
       "      <td>4</td>\n",
       "      <td>1116</td>\n",
       "      <td>628</td>\n",
       "      <td>678</td>\n",
       "      <td>712</td>\n",
       "      <td>56.741573</td>\n",
       "    </tr>\n",
       "  </tbody>\n",
       "</table>\n",
       "</div>"
      ],
      "text/plain": [
       "    농지면적순위  2021  2020  2019  2018  2018-2021 변화율\n",
       "서울       4  1116   628   678   712      56.741573"
      ]
     },
     "execution_count": 142,
     "metadata": {},
     "output_type": "execute_result"
    }
   ],
   "source": [
    "df[:1]"
   ]
  },
  {
   "cell_type": "code",
   "execution_count": 141,
   "id": "2cf8ef0a",
   "metadata": {},
   "outputs": [
    {
     "data": {
      "text/html": [
       "<div>\n",
       "<style scoped>\n",
       "    .dataframe tbody tr th:only-of-type {\n",
       "        vertical-align: middle;\n",
       "    }\n",
       "\n",
       "    .dataframe tbody tr th {\n",
       "        vertical-align: top;\n",
       "    }\n",
       "\n",
       "    .dataframe thead th {\n",
       "        text-align: right;\n",
       "    }\n",
       "</style>\n",
       "<table border=\"1\" class=\"dataframe\">\n",
       "  <thead>\n",
       "    <tr style=\"text-align: right;\">\n",
       "      <th></th>\n",
       "      <th>농지면적순위</th>\n",
       "      <th>2021</th>\n",
       "      <th>2020</th>\n",
       "      <th>2019</th>\n",
       "      <th>2018</th>\n",
       "      <th>2018-2021 변화율</th>\n",
       "    </tr>\n",
       "  </thead>\n",
       "  <tbody>\n",
       "    <tr>\n",
       "      <th>서울</th>\n",
       "      <td>4</td>\n",
       "      <td>1116</td>\n",
       "      <td>628</td>\n",
       "      <td>678</td>\n",
       "      <td>712</td>\n",
       "      <td>56.741573</td>\n",
       "    </tr>\n",
       "    <tr>\n",
       "      <th>부산</th>\n",
       "      <td>3</td>\n",
       "      <td>12259</td>\n",
       "      <td>11075</td>\n",
       "      <td>12700</td>\n",
       "      <td>13597</td>\n",
       "      <td>-9.840406</td>\n",
       "    </tr>\n",
       "  </tbody>\n",
       "</table>\n",
       "</div>"
      ],
      "text/plain": [
       "    농지면적순위   2021   2020   2019   2018  2018-2021 변화율\n",
       "서울       4   1116    628    678    712      56.741573\n",
       "부산       3  12259  11075  12700  13597      -9.840406"
      ]
     },
     "execution_count": 141,
     "metadata": {},
     "output_type": "execute_result"
    }
   ],
   "source": [
    "df['서울' : '부산']"
   ]
  },
  {
   "cell_type": "code",
   "execution_count": 155,
   "id": "86cb68fb",
   "metadata": {},
   "outputs": [
    {
     "data": {
      "text/html": [
       "<div>\n",
       "<style scoped>\n",
       "    .dataframe tbody tr th:only-of-type {\n",
       "        vertical-align: middle;\n",
       "    }\n",
       "\n",
       "    .dataframe tbody tr th {\n",
       "        vertical-align: top;\n",
       "    }\n",
       "\n",
       "    .dataframe thead th {\n",
       "        text-align: right;\n",
       "    }\n",
       "</style>\n",
       "<table border=\"1\" class=\"dataframe\">\n",
       "  <thead>\n",
       "    <tr style=\"text-align: right;\">\n",
       "      <th></th>\n",
       "      <th>농지면적순위</th>\n",
       "      <th>2021</th>\n",
       "      <th>2020</th>\n",
       "      <th>2019</th>\n",
       "      <th>2018</th>\n",
       "      <th>2018-2021 변화율</th>\n",
       "    </tr>\n",
       "  </thead>\n",
       "  <tbody>\n",
       "    <tr>\n",
       "      <th>부산</th>\n",
       "      <td>3</td>\n",
       "      <td>12259</td>\n",
       "      <td>11075</td>\n",
       "      <td>12700</td>\n",
       "      <td>13597</td>\n",
       "      <td>-9.840406</td>\n",
       "    </tr>\n",
       "    <tr>\n",
       "      <th>대구</th>\n",
       "      <td>2</td>\n",
       "      <td>16699</td>\n",
       "      <td>15695</td>\n",
       "      <td>15148</td>\n",
       "      <td>16052</td>\n",
       "      <td>4.030650</td>\n",
       "    </tr>\n",
       "  </tbody>\n",
       "</table>\n",
       "</div>"
      ],
      "text/plain": [
       "    농지면적순위   2021   2020   2019   2018  2018-2021 변화율\n",
       "부산       3  12259  11075  12700  13597      -9.840406\n",
       "대구       2  16699  15695  15148  16052       4.030650"
      ]
     },
     "execution_count": 155,
     "metadata": {},
     "output_type": "execute_result"
    }
   ],
   "source": [
    "# loc, iloc\n",
    "df.loc[['부산', '대구']]"
   ]
  },
  {
   "cell_type": "code",
   "execution_count": 157,
   "id": "81c75690",
   "metadata": {},
   "outputs": [
    {
     "data": {
      "text/plain": [
       "712"
      ]
     },
     "execution_count": 157,
     "metadata": {},
     "output_type": "execute_result"
    }
   ],
   "source": [
    "df.iloc[0, 4]"
   ]
  },
  {
   "cell_type": "code",
   "execution_count": 156,
   "id": "c7295f56",
   "metadata": {},
   "outputs": [
    {
     "data": {
      "text/plain": [
       "712"
      ]
     },
     "execution_count": 156,
     "metadata": {},
     "output_type": "execute_result"
    }
   ],
   "source": [
    "df['2018']['서울'] "
   ]
  },
  {
   "cell_type": "markdown",
   "id": "1b199c8e",
   "metadata": {},
   "source": [
    "* 인덱스 숫자로 가지고오면 뭘 가지고 왔는지 모르겠다 하면 키값을고 가지고 오기"
   ]
  },
  {
   "cell_type": "code",
   "execution_count": 159,
   "id": "bebb547c",
   "metadata": {},
   "outputs": [
    {
     "data": {
      "text/plain": [
       "4.0"
      ]
     },
     "execution_count": 159,
     "metadata": {},
     "output_type": "execute_result"
    }
   ],
   "source": [
    "df.iloc[0][0] # 별도로 시리즈로 인덱스로 접근하는 것과 똑같다."
   ]
  },
  {
   "cell_type": "markdown",
   "id": "ddcd7f08",
   "metadata": {},
   "source": [
    "* 시리즈 데이터는 하나의 값을 받기 때문에 한개만 바뀌어도 이렇게 하게 되면 강제로 형변환이 일어날 수 있다."
   ]
  },
  {
   "cell_type": "code",
   "execution_count": 161,
   "id": "e6e6e730",
   "metadata": {},
   "outputs": [
    {
     "data": {
      "text/plain": [
       "4"
      ]
     },
     "execution_count": 161,
     "metadata": {},
     "output_type": "execute_result"
    }
   ],
   "source": [
    "df.iloc[0, 0]"
   ]
  },
  {
   "cell_type": "markdown",
   "id": "78d4c59d",
   "metadata": {},
   "source": [
    "* 형변환이 일어나지 않게 하기 위해서는 바로 위에 있는 코드처럼 접근해준다."
   ]
  },
  {
   "cell_type": "markdown",
   "id": "a74a9837",
   "metadata": {},
   "source": [
    "* 실습\n",
    "    1. 인덱스는 학생 4명(철수, 영희, 길동, 슬기)\n",
    "    2. 컬럼은 4개(국어, 영어, 수학, 과학)\n",
    "        - a. 순서대로 국어 영어 수학 과학\n",
    "        - b. 철수 : 80, 90, 70, 30\n",
    "        - c. 영희 : 90, 50, 100, 50\n",
    "        - d. 길동 : 70, 60, 50, 80\n",
    "        - e. 슬기 : 50, 100, 70, 80\n",
    "    3. 해당 데이터로 데이터 프레임 생성\n",
    "    4. 각 학생들의 과목 평균 column 추가\n",
    "    5. 과목별 평균 추가"
   ]
  },
  {
   "cell_type": "code",
   "execution_count": 189,
   "id": "87442259",
   "metadata": {},
   "outputs": [
    {
     "data": {
      "text/html": [
       "<div>\n",
       "<style scoped>\n",
       "    .dataframe tbody tr th:only-of-type {\n",
       "        vertical-align: middle;\n",
       "    }\n",
       "\n",
       "    .dataframe tbody tr th {\n",
       "        vertical-align: top;\n",
       "    }\n",
       "\n",
       "    .dataframe thead th {\n",
       "        text-align: right;\n",
       "    }\n",
       "</style>\n",
       "<table border=\"1\" class=\"dataframe\">\n",
       "  <thead>\n",
       "    <tr style=\"text-align: right;\">\n",
       "      <th></th>\n",
       "      <th>국어</th>\n",
       "      <th>영어</th>\n",
       "      <th>수학</th>\n",
       "      <th>과학</th>\n",
       "    </tr>\n",
       "  </thead>\n",
       "  <tbody>\n",
       "    <tr>\n",
       "      <th>철수</th>\n",
       "      <td>80</td>\n",
       "      <td>90</td>\n",
       "      <td>70</td>\n",
       "      <td>30</td>\n",
       "    </tr>\n",
       "    <tr>\n",
       "      <th>영희</th>\n",
       "      <td>90</td>\n",
       "      <td>50</td>\n",
       "      <td>100</td>\n",
       "      <td>50</td>\n",
       "    </tr>\n",
       "    <tr>\n",
       "      <th>길동</th>\n",
       "      <td>70</td>\n",
       "      <td>60</td>\n",
       "      <td>50</td>\n",
       "      <td>80</td>\n",
       "    </tr>\n",
       "    <tr>\n",
       "      <th>슬기</th>\n",
       "      <td>50</td>\n",
       "      <td>100</td>\n",
       "      <td>70</td>\n",
       "      <td>80</td>\n",
       "    </tr>\n",
       "  </tbody>\n",
       "</table>\n",
       "</div>"
      ],
      "text/plain": [
       "    국어   영어   수학  과학\n",
       "철수  80   90   70  30\n",
       "영희  90   50  100  50\n",
       "길동  70   60   50  80\n",
       "슬기  50  100   70  80"
      ]
     },
     "execution_count": 189,
     "metadata": {},
     "output_type": "execute_result"
    }
   ],
   "source": [
    "subject_score = {\n",
    "'국어' : [80, 90, 70, 50],\n",
    "'영어' : [90, 50, 60, 100],\n",
    "'수학' : [70, 100, 50, 70],\n",
    "'과학' : [30, 50, 80, 80]\n",
    "}\n",
    "columns = ['국어','영어','수학','과학']\n",
    "index = ['철수', '영희', '길동', '슬기']\n",
    "df = pd.DataFrame(subject_score, index = index, columns = columns)\n",
    "df"
   ]
  },
  {
   "cell_type": "code",
   "execution_count": 190,
   "id": "80b86e59",
   "metadata": {},
   "outputs": [],
   "source": [
    "df['평균'] = df.mean(axis = 1)\n",
    "df.loc['평균'] = df.mean()"
   ]
  },
  {
   "cell_type": "code",
   "execution_count": 191,
   "id": "3147e313",
   "metadata": {},
   "outputs": [
    {
     "data": {
      "text/html": [
       "<div>\n",
       "<style scoped>\n",
       "    .dataframe tbody tr th:only-of-type {\n",
       "        vertical-align: middle;\n",
       "    }\n",
       "\n",
       "    .dataframe tbody tr th {\n",
       "        vertical-align: top;\n",
       "    }\n",
       "\n",
       "    .dataframe thead th {\n",
       "        text-align: right;\n",
       "    }\n",
       "</style>\n",
       "<table border=\"1\" class=\"dataframe\">\n",
       "  <thead>\n",
       "    <tr style=\"text-align: right;\">\n",
       "      <th></th>\n",
       "      <th>국어</th>\n",
       "      <th>영어</th>\n",
       "      <th>수학</th>\n",
       "      <th>과학</th>\n",
       "      <th>평균</th>\n",
       "    </tr>\n",
       "  </thead>\n",
       "  <tbody>\n",
       "    <tr>\n",
       "      <th>철수</th>\n",
       "      <td>80.0</td>\n",
       "      <td>90.0</td>\n",
       "      <td>70.0</td>\n",
       "      <td>30.0</td>\n",
       "      <td>67.5</td>\n",
       "    </tr>\n",
       "    <tr>\n",
       "      <th>영희</th>\n",
       "      <td>90.0</td>\n",
       "      <td>50.0</td>\n",
       "      <td>100.0</td>\n",
       "      <td>50.0</td>\n",
       "      <td>72.5</td>\n",
       "    </tr>\n",
       "    <tr>\n",
       "      <th>길동</th>\n",
       "      <td>70.0</td>\n",
       "      <td>60.0</td>\n",
       "      <td>50.0</td>\n",
       "      <td>80.0</td>\n",
       "      <td>65.0</td>\n",
       "    </tr>\n",
       "    <tr>\n",
       "      <th>슬기</th>\n",
       "      <td>50.0</td>\n",
       "      <td>100.0</td>\n",
       "      <td>70.0</td>\n",
       "      <td>80.0</td>\n",
       "      <td>75.0</td>\n",
       "    </tr>\n",
       "    <tr>\n",
       "      <th>평균</th>\n",
       "      <td>72.5</td>\n",
       "      <td>75.0</td>\n",
       "      <td>72.5</td>\n",
       "      <td>60.0</td>\n",
       "      <td>70.0</td>\n",
       "    </tr>\n",
       "  </tbody>\n",
       "</table>\n",
       "</div>"
      ],
      "text/plain": [
       "      국어     영어     수학    과학    평균\n",
       "철수  80.0   90.0   70.0  30.0  67.5\n",
       "영희  90.0   50.0  100.0  50.0  72.5\n",
       "길동  70.0   60.0   50.0  80.0  65.0\n",
       "슬기  50.0  100.0   70.0  80.0  75.0\n",
       "평균  72.5   75.0   72.5  60.0  70.0"
      ]
     },
     "execution_count": 191,
     "metadata": {},
     "output_type": "execute_result"
    }
   ],
   "source": [
    "df"
   ]
  },
  {
   "cell_type": "code",
   "execution_count": 192,
   "id": "ccd30180",
   "metadata": {},
   "outputs": [],
   "source": [
    "# 학생의 평균을 테이블에 나타내었다. \n",
    "df['학생평균'] = (df['국어'] + df['영어'] + df['수학'] + df['과학']) / 4"
   ]
  },
  {
   "cell_type": "code",
   "execution_count": 178,
   "id": "427de252",
   "metadata": {},
   "outputs": [
    {
     "data": {
      "text/html": [
       "<div>\n",
       "<style scoped>\n",
       "    .dataframe tbody tr th:only-of-type {\n",
       "        vertical-align: middle;\n",
       "    }\n",
       "\n",
       "    .dataframe tbody tr th {\n",
       "        vertical-align: top;\n",
       "    }\n",
       "\n",
       "    .dataframe thead th {\n",
       "        text-align: right;\n",
       "    }\n",
       "</style>\n",
       "<table border=\"1\" class=\"dataframe\">\n",
       "  <thead>\n",
       "    <tr style=\"text-align: right;\">\n",
       "      <th></th>\n",
       "      <th>국어</th>\n",
       "      <th>영어</th>\n",
       "      <th>수학</th>\n",
       "      <th>과학</th>\n",
       "      <th>평균</th>\n",
       "    </tr>\n",
       "  </thead>\n",
       "  <tbody>\n",
       "    <tr>\n",
       "      <th>철수</th>\n",
       "      <td>80.0</td>\n",
       "      <td>90.0</td>\n",
       "      <td>70.0</td>\n",
       "      <td>30.0</td>\n",
       "      <td>67.5</td>\n",
       "    </tr>\n",
       "    <tr>\n",
       "      <th>영희</th>\n",
       "      <td>90.0</td>\n",
       "      <td>50.0</td>\n",
       "      <td>100.0</td>\n",
       "      <td>50.0</td>\n",
       "      <td>67.5</td>\n",
       "    </tr>\n",
       "    <tr>\n",
       "      <th>길동</th>\n",
       "      <td>70.0</td>\n",
       "      <td>60.0</td>\n",
       "      <td>50.0</td>\n",
       "      <td>80.0</td>\n",
       "      <td>67.5</td>\n",
       "    </tr>\n",
       "    <tr>\n",
       "      <th>슬기</th>\n",
       "      <td>50.0</td>\n",
       "      <td>100.0</td>\n",
       "      <td>70.0</td>\n",
       "      <td>80.0</td>\n",
       "      <td>67.5</td>\n",
       "    </tr>\n",
       "    <tr>\n",
       "      <th>평균</th>\n",
       "      <td>72.5</td>\n",
       "      <td>75.0</td>\n",
       "      <td>72.5</td>\n",
       "      <td>60.0</td>\n",
       "      <td>67.5</td>\n",
       "    </tr>\n",
       "  </tbody>\n",
       "</table>\n",
       "</div>"
      ],
      "text/plain": [
       "      국어     영어     수학    과학    평균\n",
       "철수  80.0   90.0   70.0  30.0  67.5\n",
       "영희  90.0   50.0  100.0  50.0  67.5\n",
       "길동  70.0   60.0   50.0  80.0  67.5\n",
       "슬기  50.0  100.0   70.0  80.0  67.5\n",
       "평균  72.5   75.0   72.5  60.0  67.5"
      ]
     },
     "execution_count": 178,
     "metadata": {},
     "output_type": "execute_result"
    }
   ],
   "source": [
    "df"
   ]
  },
  {
   "cell_type": "code",
   "execution_count": 193,
   "id": "9bd3bcc3",
   "metadata": {},
   "outputs": [],
   "source": [
    "# 과목의 평균을 테이블에 나타내었다.\n",
    "df.loc['과목평균'] = (df.loc['철수'] + df.loc['영희'] + df.loc['길동'] + df.loc['슬기']) / 4"
   ]
  },
  {
   "cell_type": "code",
   "execution_count": 194,
   "id": "4d3e7f5e",
   "metadata": {},
   "outputs": [
    {
     "data": {
      "text/html": [
       "<div>\n",
       "<style scoped>\n",
       "    .dataframe tbody tr th:only-of-type {\n",
       "        vertical-align: middle;\n",
       "    }\n",
       "\n",
       "    .dataframe tbody tr th {\n",
       "        vertical-align: top;\n",
       "    }\n",
       "\n",
       "    .dataframe thead th {\n",
       "        text-align: right;\n",
       "    }\n",
       "</style>\n",
       "<table border=\"1\" class=\"dataframe\">\n",
       "  <thead>\n",
       "    <tr style=\"text-align: right;\">\n",
       "      <th></th>\n",
       "      <th>국어</th>\n",
       "      <th>영어</th>\n",
       "      <th>수학</th>\n",
       "      <th>과학</th>\n",
       "      <th>평균</th>\n",
       "      <th>학생평균</th>\n",
       "    </tr>\n",
       "  </thead>\n",
       "  <tbody>\n",
       "    <tr>\n",
       "      <th>철수</th>\n",
       "      <td>80.0</td>\n",
       "      <td>90.0</td>\n",
       "      <td>70.0</td>\n",
       "      <td>30.0</td>\n",
       "      <td>67.5</td>\n",
       "      <td>67.5</td>\n",
       "    </tr>\n",
       "    <tr>\n",
       "      <th>영희</th>\n",
       "      <td>90.0</td>\n",
       "      <td>50.0</td>\n",
       "      <td>100.0</td>\n",
       "      <td>50.0</td>\n",
       "      <td>72.5</td>\n",
       "      <td>72.5</td>\n",
       "    </tr>\n",
       "    <tr>\n",
       "      <th>길동</th>\n",
       "      <td>70.0</td>\n",
       "      <td>60.0</td>\n",
       "      <td>50.0</td>\n",
       "      <td>80.0</td>\n",
       "      <td>65.0</td>\n",
       "      <td>65.0</td>\n",
       "    </tr>\n",
       "    <tr>\n",
       "      <th>슬기</th>\n",
       "      <td>50.0</td>\n",
       "      <td>100.0</td>\n",
       "      <td>70.0</td>\n",
       "      <td>80.0</td>\n",
       "      <td>75.0</td>\n",
       "      <td>75.0</td>\n",
       "    </tr>\n",
       "    <tr>\n",
       "      <th>평균</th>\n",
       "      <td>72.5</td>\n",
       "      <td>75.0</td>\n",
       "      <td>72.5</td>\n",
       "      <td>60.0</td>\n",
       "      <td>70.0</td>\n",
       "      <td>70.0</td>\n",
       "    </tr>\n",
       "    <tr>\n",
       "      <th>과목평균</th>\n",
       "      <td>72.5</td>\n",
       "      <td>75.0</td>\n",
       "      <td>72.5</td>\n",
       "      <td>60.0</td>\n",
       "      <td>70.0</td>\n",
       "      <td>70.0</td>\n",
       "    </tr>\n",
       "  </tbody>\n",
       "</table>\n",
       "</div>"
      ],
      "text/plain": [
       "        국어     영어     수학    과학    평균  학생평균\n",
       "철수    80.0   90.0   70.0  30.0  67.5  67.5\n",
       "영희    90.0   50.0  100.0  50.0  72.5  72.5\n",
       "길동    70.0   60.0   50.0  80.0  65.0  65.0\n",
       "슬기    50.0  100.0   70.0  80.0  75.0  75.0\n",
       "평균    72.5   75.0   72.5  60.0  70.0  70.0\n",
       "과목평균  72.5   75.0   72.5  60.0  70.0  70.0"
      ]
     },
     "execution_count": 194,
     "metadata": {},
     "output_type": "execute_result"
    }
   ],
   "source": [
    "df"
   ]
  },
  {
   "cell_type": "markdown",
   "id": "47e94d22",
   "metadata": {},
   "source": [
    "# END"
   ]
  }
 ],
 "metadata": {
  "kernelspec": {
   "display_name": "Python 3 (ipykernel)",
   "language": "python",
   "name": "python3"
  },
  "language_info": {
   "codemirror_mode": {
    "name": "ipython",
    "version": 3
   },
   "file_extension": ".py",
   "mimetype": "text/x-python",
   "name": "python",
   "nbconvert_exporter": "python",
   "pygments_lexer": "ipython3",
   "version": "3.9.12"
  }
 },
 "nbformat": 4,
 "nbformat_minor": 5
}
